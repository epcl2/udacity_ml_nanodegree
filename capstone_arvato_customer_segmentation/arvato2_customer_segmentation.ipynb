{
  "nbformat": 4,
  "nbformat_minor": 0,
  "metadata": {
    "colab": {
      "name": "udacity_arvato",
      "provenance": [],
      "collapsed_sections": []
    },
    "kernelspec": {
      "name": "python3",
      "display_name": "Python 3"
    }
  },
  "cells": [
    {
      "source": [
        "# Capstone Project: Create a Customer Segmentation Report for Arvato Financial Services"
      ],
      "cell_type": "markdown",
      "metadata": {}
    },
    {
      "source": [
        "## Part 2: Customer Segmentation Report\n",
        "\n",
        "In this notebook, I will use unsupervised learning techniques to investigate the relationship between the general population in Germany and the mail-order company's existing customers."
      ],
      "cell_type": "markdown",
      "metadata": {}
    },
    {
      "source": [
        "### Importing Libraries"
      ],
      "cell_type": "markdown",
      "metadata": {}
    },
    {
      "cell_type": "code",
      "metadata": {
        "id": "DPPtpPJJ2a01",
        "colab_type": "code",
        "colab": {
          "base_uri": "https://localhost:8080/",
          "height": 70
        },
        "outputId": "28145e76-9059-4b46-ce71-f1cc572161a3"
      },
      "source": [
        "# import libraries here; add more as necessary\n",
        "import numpy as np\n",
        "import pandas as pd\n",
        "import matplotlib.pyplot as plt\n",
        "import seaborn as sns\n",
        "\n",
        "%matplotlib inline\n",
        "\n",
        "from sklearn.preprocessing import RobustScaler\n",
        "from sklearn.decomposition import PCA\n",
        "\n",
        "# import some helper functions\n",
        "from helpers import pca_plots, get_principal_component, plot_kmeans, get_important_features"
      ],
      "execution_count": 1,
      "outputs": [
        {
          "output_type": "stream",
          "text": [
            "/usr/local/lib/python3.6/dist-packages/statsmodels/tools/_testing.py:19: FutureWarning: pandas.util.testing is deprecated. Use the functions in the public API at pandas.testing instead.\n",
            "  import pandas.util.testing as tm\n"
          ],
          "name": "stderr"
        }
      ]
    },
    {
      "cell_type": "code",
      "metadata": {
        "id": "d-W9dj5rIECf",
        "colab_type": "code",
        "colab": {}
      },
      "source": [
        "# load in dataframes from previous notebook\n",
        "azdias_combined = pd.read_csv(\"azdias_combined_new.csv\")\n",
        "customer_combined = pd.read_csv(\"customer_combined_new.csv\")"
      ],
      "execution_count": 3,
      "outputs": []
    },
    {
      "source": [
        "### Feature Scaling\n",
        "\n",
        "Before applying principal component analysis (PCA) to the dataset, I will scale my features so that the principal component vectors are not affected by the differences in magnitude of features in my data. \n",
        "\n",
        "I first tried MinMaxScaler, which translates each feature to between 0 and 1, but due to RAM issues, my kernel kept crashing.\n",
        "\n",
        "Hence, in the end, I went to RobustScaler, which is a scaler that is robust to outliers. The same scaler is fit on the azdias data and used to transform both the azdias and customer data."
      ],
      "cell_type": "markdown",
      "metadata": {}
    },
    {
      "cell_type": "code",
      "metadata": {
        "id": "pviDZYxVruhm",
        "colab_type": "code",
        "colab": {}
      },
      "source": [
        "#scaling\n",
        "# use robust scaler as MinMaxScaler took up too much RAM\n",
        "# fit on azdias\n",
        "scaler = RobustScaler()\n",
        "scaler.fit(azdias_combined)\n",
        "\n",
        "#transform azdias\n",
        "azdias_scaled = scaler.transform(azdias_combined)\n",
        "azdias_scaled = pd.DataFrame(azdias_scaled, columns=azdias_combined.columns)"
      ],
      "execution_count": 4,
      "outputs": []
    },
    {
      "cell_type": "code",
      "metadata": {
        "id": "Zu2c7s03FUg5",
        "colab_type": "code",
        "colab": {}
      },
      "source": [
        "# transform customer\n",
        "customer_scaled = scaler.transform(customer_combined)\n",
        "customer_scaled = pd.DataFrame(customer_scaled, columns=customer_combined.columns)"
      ],
      "execution_count": 5,
      "outputs": []
    },
    {
      "cell_type": "code",
      "metadata": {
        "id": "yukCv_QQJsCo",
        "colab_type": "code",
        "colab": {
          "base_uri": "https://localhost:8080/",
          "height": 244
        },
        "outputId": "c4207745-f005-4652-a4ec-f3f6d59eee83"
      },
      "source": [
        "azdias_scaled.head()"
      ],
      "execution_count": 6,
      "outputs": [
        {
          "output_type": "execute_result",
          "data": {
            "text/html": [
              "<div>\n",
              "<style scoped>\n",
              "    .dataframe tbody tr th:only-of-type {\n",
              "        vertical-align: middle;\n",
              "    }\n",
              "\n",
              "    .dataframe tbody tr th {\n",
              "        vertical-align: top;\n",
              "    }\n",
              "\n",
              "    .dataframe thead th {\n",
              "        text-align: right;\n",
              "    }\n",
              "</style>\n",
              "<table border=\"1\" class=\"dataframe\">\n",
              "  <thead>\n",
              "    <tr style=\"text-align: right;\">\n",
              "      <th></th>\n",
              "      <th>ALTERSKATEGORIE_FEIN</th>\n",
              "      <th>ANZ_HH_TITEL</th>\n",
              "      <th>ARBEIT</th>\n",
              "      <th>BALLRAUM</th>\n",
              "      <th>CAMEO_DEUG_2015</th>\n",
              "      <th>CJT_KATALOGNUTZER</th>\n",
              "      <th>CJT_TYP_1</th>\n",
              "      <th>CJT_TYP_2</th>\n",
              "      <th>CJT_TYP_3</th>\n",
              "      <th>CJT_TYP_4</th>\n",
              "      <th>CJT_TYP_5</th>\n",
              "      <th>CJT_TYP_6</th>\n",
              "      <th>D19_BANKEN_ONLINE_QUOTE_12</th>\n",
              "      <th>D19_GESAMT_ONLINE_QUOTE_12</th>\n",
              "      <th>D19_LOTTO</th>\n",
              "      <th>D19_SOZIALES</th>\n",
              "      <th>D19_TELKO_ONLINE_QUOTE_12</th>\n",
              "      <th>D19_VERSAND_ONLINE_QUOTE_12</th>\n",
              "      <th>D19_VERSI_ONLINE_QUOTE_12</th>\n",
              "      <th>EWDICHTE</th>\n",
              "      <th>FIRMENDICHTE</th>\n",
              "      <th>GEMEINDETYP</th>\n",
              "      <th>HEALTH_TYP</th>\n",
              "      <th>HH_DELTA_FLAG</th>\n",
              "      <th>INNENSTADT</th>\n",
              "      <th>KKK</th>\n",
              "      <th>KONSUMNAEHE</th>\n",
              "      <th>KONSUMZELLE</th>\n",
              "      <th>LP_FAMILIE_FEIN</th>\n",
              "      <th>LP_FAMILIE_GROB</th>\n",
              "      <th>LP_LEBENSPHASE_GROB</th>\n",
              "      <th>LP_STATUS_FEIN</th>\n",
              "      <th>LP_STATUS_GROB</th>\n",
              "      <th>ONLINE_AFFINITAET</th>\n",
              "      <th>ORTSGR_KLS9</th>\n",
              "      <th>PLZ8_ANTG1</th>\n",
              "      <th>PLZ8_ANTG2</th>\n",
              "      <th>PLZ8_ANTG3</th>\n",
              "      <th>PLZ8_ANTG4</th>\n",
              "      <th>PLZ8_BAUMAX</th>\n",
              "      <th>...</th>\n",
              "      <th>CJT_GESAMTTYP_1.0</th>\n",
              "      <th>CJT_GESAMTTYP_2.0</th>\n",
              "      <th>CJT_GESAMTTYP_3.0</th>\n",
              "      <th>CJT_GESAMTTYP_4.0</th>\n",
              "      <th>CJT_GESAMTTYP_5.0</th>\n",
              "      <th>CJT_GESAMTTYP_6.0</th>\n",
              "      <th>D19_KONSUMTYP_1.0</th>\n",
              "      <th>D19_KONSUMTYP_2.0</th>\n",
              "      <th>D19_KONSUMTYP_3.0</th>\n",
              "      <th>D19_KONSUMTYP_4.0</th>\n",
              "      <th>D19_KONSUMTYP_5.0</th>\n",
              "      <th>D19_KONSUMTYP_6.0</th>\n",
              "      <th>D19_KONSUMTYP_9.0</th>\n",
              "      <th>GEBAEUDETYP_RASTER_1.0</th>\n",
              "      <th>GEBAEUDETYP_RASTER_2.0</th>\n",
              "      <th>GEBAEUDETYP_RASTER_3.0</th>\n",
              "      <th>GEBAEUDETYP_RASTER_4.0</th>\n",
              "      <th>GEBAEUDETYP_RASTER_5.0</th>\n",
              "      <th>GFK_URLAUBERTYP_1.0</th>\n",
              "      <th>GFK_URLAUBERTYP_2.0</th>\n",
              "      <th>GFK_URLAUBERTYP_3.0</th>\n",
              "      <th>GFK_URLAUBERTYP_4.0</th>\n",
              "      <th>GFK_URLAUBERTYP_5.0</th>\n",
              "      <th>GFK_URLAUBERTYP_6.0</th>\n",
              "      <th>GFK_URLAUBERTYP_7.0</th>\n",
              "      <th>GFK_URLAUBERTYP_8.0</th>\n",
              "      <th>GFK_URLAUBERTYP_9.0</th>\n",
              "      <th>GFK_URLAUBERTYP_10.0</th>\n",
              "      <th>GFK_URLAUBERTYP_11.0</th>\n",
              "      <th>GFK_URLAUBERTYP_12.0</th>\n",
              "      <th>NATIONALITAET_KZ_0</th>\n",
              "      <th>NATIONALITAET_KZ_1</th>\n",
              "      <th>NATIONALITAET_KZ_2</th>\n",
              "      <th>NATIONALITAET_KZ_3</th>\n",
              "      <th>ZABEOTYP_1</th>\n",
              "      <th>ZABEOTYP_2</th>\n",
              "      <th>ZABEOTYP_3</th>\n",
              "      <th>ZABEOTYP_4</th>\n",
              "      <th>ZABEOTYP_5</th>\n",
              "      <th>ZABEOTYP_6</th>\n",
              "    </tr>\n",
              "  </thead>\n",
              "  <tbody>\n",
              "    <tr>\n",
              "      <th>0</th>\n",
              "      <td>0.50</td>\n",
              "      <td>0.0</td>\n",
              "      <td>0.0</td>\n",
              "      <td>-0.75</td>\n",
              "      <td>-0.4</td>\n",
              "      <td>-0.333333</td>\n",
              "      <td>0.333333</td>\n",
              "      <td>0.5</td>\n",
              "      <td>-0.666667</td>\n",
              "      <td>0.000000</td>\n",
              "      <td>-0.333333</td>\n",
              "      <td>-0.666667</td>\n",
              "      <td>0.0</td>\n",
              "      <td>0.00</td>\n",
              "      <td>0.0</td>\n",
              "      <td>0.0</td>\n",
              "      <td>0.0</td>\n",
              "      <td>0.0</td>\n",
              "      <td>0.0</td>\n",
              "      <td>0.00</td>\n",
              "      <td>0.0</td>\n",
              "      <td>0.000000</td>\n",
              "      <td>1.0</td>\n",
              "      <td>0.0</td>\n",
              "      <td>-0.333333</td>\n",
              "      <td>-1.0</td>\n",
              "      <td>1.0</td>\n",
              "      <td>0.0</td>\n",
              "      <td>0.000000</td>\n",
              "      <td>0.0</td>\n",
              "      <td>-0.333333</td>\n",
              "      <td>0.000</td>\n",
              "      <td>0.0</td>\n",
              "      <td>-0.333333</td>\n",
              "      <td>0.000000</td>\n",
              "      <td>0.5</td>\n",
              "      <td>0.0</td>\n",
              "      <td>-1.0</td>\n",
              "      <td>-1.0</td>\n",
              "      <td>0.0</td>\n",
              "      <td>...</td>\n",
              "      <td>0.0</td>\n",
              "      <td>0.0</td>\n",
              "      <td>0.0</td>\n",
              "      <td>0.0</td>\n",
              "      <td>1.0</td>\n",
              "      <td>0.0</td>\n",
              "      <td>0.0</td>\n",
              "      <td>0.0</td>\n",
              "      <td>0.0</td>\n",
              "      <td>0.0</td>\n",
              "      <td>0.0</td>\n",
              "      <td>0.0</td>\n",
              "      <td>0.0</td>\n",
              "      <td>0.0</td>\n",
              "      <td>0.0</td>\n",
              "      <td>1.0</td>\n",
              "      <td>0.0</td>\n",
              "      <td>0.0</td>\n",
              "      <td>0.0</td>\n",
              "      <td>0.0</td>\n",
              "      <td>0.0</td>\n",
              "      <td>0.0</td>\n",
              "      <td>0.0</td>\n",
              "      <td>0.0</td>\n",
              "      <td>0.0</td>\n",
              "      <td>0.0</td>\n",
              "      <td>0.0</td>\n",
              "      <td>1.0</td>\n",
              "      <td>0.0</td>\n",
              "      <td>0.0</td>\n",
              "      <td>0.0</td>\n",
              "      <td>0.0</td>\n",
              "      <td>0.0</td>\n",
              "      <td>0.0</td>\n",
              "      <td>0.0</td>\n",
              "      <td>0.0</td>\n",
              "      <td>0.0</td>\n",
              "      <td>0.0</td>\n",
              "      <td>1.0</td>\n",
              "      <td>0.0</td>\n",
              "    </tr>\n",
              "    <tr>\n",
              "      <th>1</th>\n",
              "      <td>-0.50</td>\n",
              "      <td>0.0</td>\n",
              "      <td>-1.0</td>\n",
              "      <td>-0.25</td>\n",
              "      <td>-0.8</td>\n",
              "      <td>0.000000</td>\n",
              "      <td>-0.333333</td>\n",
              "      <td>-0.5</td>\n",
              "      <td>0.333333</td>\n",
              "      <td>0.333333</td>\n",
              "      <td>0.666667</td>\n",
              "      <td>-0.333333</td>\n",
              "      <td>0.0</td>\n",
              "      <td>0.00</td>\n",
              "      <td>0.0</td>\n",
              "      <td>0.0</td>\n",
              "      <td>0.0</td>\n",
              "      <td>0.0</td>\n",
              "      <td>0.0</td>\n",
              "      <td>-0.50</td>\n",
              "      <td>0.0</td>\n",
              "      <td>1.000000</td>\n",
              "      <td>0.0</td>\n",
              "      <td>0.0</td>\n",
              "      <td>0.333333</td>\n",
              "      <td>-3.0</td>\n",
              "      <td>0.5</td>\n",
              "      <td>0.0</td>\n",
              "      <td>-0.142857</td>\n",
              "      <td>0.0</td>\n",
              "      <td>-0.500000</td>\n",
              "      <td>0.750</td>\n",
              "      <td>1.0</td>\n",
              "      <td>-0.666667</td>\n",
              "      <td>-0.666667</td>\n",
              "      <td>0.0</td>\n",
              "      <td>-0.5</td>\n",
              "      <td>0.0</td>\n",
              "      <td>-1.0</td>\n",
              "      <td>0.0</td>\n",
              "      <td>...</td>\n",
              "      <td>0.0</td>\n",
              "      <td>0.0</td>\n",
              "      <td>1.0</td>\n",
              "      <td>0.0</td>\n",
              "      <td>0.0</td>\n",
              "      <td>0.0</td>\n",
              "      <td>0.0</td>\n",
              "      <td>0.0</td>\n",
              "      <td>0.0</td>\n",
              "      <td>0.0</td>\n",
              "      <td>0.0</td>\n",
              "      <td>0.0</td>\n",
              "      <td>1.0</td>\n",
              "      <td>0.0</td>\n",
              "      <td>0.0</td>\n",
              "      <td>0.0</td>\n",
              "      <td>1.0</td>\n",
              "      <td>0.0</td>\n",
              "      <td>0.0</td>\n",
              "      <td>0.0</td>\n",
              "      <td>0.0</td>\n",
              "      <td>0.0</td>\n",
              "      <td>0.0</td>\n",
              "      <td>0.0</td>\n",
              "      <td>0.0</td>\n",
              "      <td>0.0</td>\n",
              "      <td>0.0</td>\n",
              "      <td>1.0</td>\n",
              "      <td>0.0</td>\n",
              "      <td>0.0</td>\n",
              "      <td>0.0</td>\n",
              "      <td>0.0</td>\n",
              "      <td>0.0</td>\n",
              "      <td>0.0</td>\n",
              "      <td>0.0</td>\n",
              "      <td>0.0</td>\n",
              "      <td>0.0</td>\n",
              "      <td>0.0</td>\n",
              "      <td>1.0</td>\n",
              "      <td>0.0</td>\n",
              "    </tr>\n",
              "    <tr>\n",
              "      <th>2</th>\n",
              "      <td>-0.25</td>\n",
              "      <td>0.0</td>\n",
              "      <td>1.0</td>\n",
              "      <td>-0.75</td>\n",
              "      <td>0.0</td>\n",
              "      <td>0.000000</td>\n",
              "      <td>0.000000</td>\n",
              "      <td>0.0</td>\n",
              "      <td>0.000000</td>\n",
              "      <td>0.333333</td>\n",
              "      <td>0.000000</td>\n",
              "      <td>-0.333333</td>\n",
              "      <td>10.0</td>\n",
              "      <td>1.25</td>\n",
              "      <td>0.0</td>\n",
              "      <td>0.0</td>\n",
              "      <td>0.0</td>\n",
              "      <td>2.0</td>\n",
              "      <td>0.0</td>\n",
              "      <td>0.25</td>\n",
              "      <td>1.0</td>\n",
              "      <td>-0.055556</td>\n",
              "      <td>1.0</td>\n",
              "      <td>0.0</td>\n",
              "      <td>-1.333333</td>\n",
              "      <td>0.0</td>\n",
              "      <td>0.5</td>\n",
              "      <td>0.0</td>\n",
              "      <td>1.285714</td>\n",
              "      <td>1.0</td>\n",
              "      <td>1.166667</td>\n",
              "      <td>0.000</td>\n",
              "      <td>0.0</td>\n",
              "      <td>0.666667</td>\n",
              "      <td>0.333333</td>\n",
              "      <td>0.0</td>\n",
              "      <td>0.5</td>\n",
              "      <td>0.0</td>\n",
              "      <td>0.0</td>\n",
              "      <td>0.5</td>\n",
              "      <td>...</td>\n",
              "      <td>0.0</td>\n",
              "      <td>1.0</td>\n",
              "      <td>0.0</td>\n",
              "      <td>0.0</td>\n",
              "      <td>0.0</td>\n",
              "      <td>0.0</td>\n",
              "      <td>0.0</td>\n",
              "      <td>0.0</td>\n",
              "      <td>0.0</td>\n",
              "      <td>0.0</td>\n",
              "      <td>0.0</td>\n",
              "      <td>0.0</td>\n",
              "      <td>1.0</td>\n",
              "      <td>0.0</td>\n",
              "      <td>0.0</td>\n",
              "      <td>0.0</td>\n",
              "      <td>1.0</td>\n",
              "      <td>0.0</td>\n",
              "      <td>1.0</td>\n",
              "      <td>0.0</td>\n",
              "      <td>0.0</td>\n",
              "      <td>0.0</td>\n",
              "      <td>0.0</td>\n",
              "      <td>0.0</td>\n",
              "      <td>0.0</td>\n",
              "      <td>0.0</td>\n",
              "      <td>0.0</td>\n",
              "      <td>0.0</td>\n",
              "      <td>0.0</td>\n",
              "      <td>0.0</td>\n",
              "      <td>0.0</td>\n",
              "      <td>0.0</td>\n",
              "      <td>0.0</td>\n",
              "      <td>0.0</td>\n",
              "      <td>0.0</td>\n",
              "      <td>0.0</td>\n",
              "      <td>1.0</td>\n",
              "      <td>0.0</td>\n",
              "      <td>0.0</td>\n",
              "      <td>0.0</td>\n",
              "    </tr>\n",
              "    <tr>\n",
              "      <th>3</th>\n",
              "      <td>-1.25</td>\n",
              "      <td>0.0</td>\n",
              "      <td>-1.0</td>\n",
              "      <td>0.25</td>\n",
              "      <td>0.4</td>\n",
              "      <td>0.666667</td>\n",
              "      <td>-0.333333</td>\n",
              "      <td>-1.0</td>\n",
              "      <td>0.666667</td>\n",
              "      <td>0.666667</td>\n",
              "      <td>0.000000</td>\n",
              "      <td>-0.333333</td>\n",
              "      <td>0.0</td>\n",
              "      <td>1.25</td>\n",
              "      <td>0.0</td>\n",
              "      <td>4.0</td>\n",
              "      <td>0.0</td>\n",
              "      <td>0.0</td>\n",
              "      <td>0.0</td>\n",
              "      <td>-0.50</td>\n",
              "      <td>0.0</td>\n",
              "      <td>1.000000</td>\n",
              "      <td>1.0</td>\n",
              "      <td>0.0</td>\n",
              "      <td>0.666667</td>\n",
              "      <td>1.0</td>\n",
              "      <td>1.0</td>\n",
              "      <td>0.0</td>\n",
              "      <td>0.000000</td>\n",
              "      <td>0.0</td>\n",
              "      <td>-0.166667</td>\n",
              "      <td>0.125</td>\n",
              "      <td>0.0</td>\n",
              "      <td>-0.666667</td>\n",
              "      <td>-0.666667</td>\n",
              "      <td>0.0</td>\n",
              "      <td>0.0</td>\n",
              "      <td>-1.0</td>\n",
              "      <td>0.0</td>\n",
              "      <td>0.0</td>\n",
              "      <td>...</td>\n",
              "      <td>0.0</td>\n",
              "      <td>0.0</td>\n",
              "      <td>0.0</td>\n",
              "      <td>0.0</td>\n",
              "      <td>1.0</td>\n",
              "      <td>0.0</td>\n",
              "      <td>1.0</td>\n",
              "      <td>0.0</td>\n",
              "      <td>0.0</td>\n",
              "      <td>0.0</td>\n",
              "      <td>0.0</td>\n",
              "      <td>0.0</td>\n",
              "      <td>0.0</td>\n",
              "      <td>0.0</td>\n",
              "      <td>0.0</td>\n",
              "      <td>0.0</td>\n",
              "      <td>0.0</td>\n",
              "      <td>1.0</td>\n",
              "      <td>0.0</td>\n",
              "      <td>0.0</td>\n",
              "      <td>0.0</td>\n",
              "      <td>0.0</td>\n",
              "      <td>1.0</td>\n",
              "      <td>0.0</td>\n",
              "      <td>0.0</td>\n",
              "      <td>0.0</td>\n",
              "      <td>0.0</td>\n",
              "      <td>0.0</td>\n",
              "      <td>0.0</td>\n",
              "      <td>0.0</td>\n",
              "      <td>0.0</td>\n",
              "      <td>0.0</td>\n",
              "      <td>0.0</td>\n",
              "      <td>0.0</td>\n",
              "      <td>0.0</td>\n",
              "      <td>0.0</td>\n",
              "      <td>0.0</td>\n",
              "      <td>1.0</td>\n",
              "      <td>0.0</td>\n",
              "      <td>0.0</td>\n",
              "    </tr>\n",
              "    <tr>\n",
              "      <th>4</th>\n",
              "      <td>0.00</td>\n",
              "      <td>0.0</td>\n",
              "      <td>1.0</td>\n",
              "      <td>0.25</td>\n",
              "      <td>-0.4</td>\n",
              "      <td>0.000000</td>\n",
              "      <td>0.666667</td>\n",
              "      <td>1.0</td>\n",
              "      <td>-0.666667</td>\n",
              "      <td>0.000000</td>\n",
              "      <td>-0.666667</td>\n",
              "      <td>-0.666667</td>\n",
              "      <td>0.0</td>\n",
              "      <td>0.00</td>\n",
              "      <td>0.0</td>\n",
              "      <td>0.0</td>\n",
              "      <td>0.0</td>\n",
              "      <td>0.0</td>\n",
              "      <td>0.0</td>\n",
              "      <td>0.00</td>\n",
              "      <td>1.0</td>\n",
              "      <td>-0.555556</td>\n",
              "      <td>0.0</td>\n",
              "      <td>0.0</td>\n",
              "      <td>-0.666667</td>\n",
              "      <td>0.0</td>\n",
              "      <td>1.0</td>\n",
              "      <td>0.0</td>\n",
              "      <td>0.000000</td>\n",
              "      <td>0.0</td>\n",
              "      <td>-0.333333</td>\n",
              "      <td>-0.125</td>\n",
              "      <td>0.0</td>\n",
              "      <td>-0.333333</td>\n",
              "      <td>0.333333</td>\n",
              "      <td>0.5</td>\n",
              "      <td>0.0</td>\n",
              "      <td>-1.0</td>\n",
              "      <td>-1.0</td>\n",
              "      <td>0.0</td>\n",
              "      <td>...</td>\n",
              "      <td>0.0</td>\n",
              "      <td>1.0</td>\n",
              "      <td>0.0</td>\n",
              "      <td>0.0</td>\n",
              "      <td>0.0</td>\n",
              "      <td>0.0</td>\n",
              "      <td>0.0</td>\n",
              "      <td>0.0</td>\n",
              "      <td>0.0</td>\n",
              "      <td>1.0</td>\n",
              "      <td>0.0</td>\n",
              "      <td>0.0</td>\n",
              "      <td>0.0</td>\n",
              "      <td>0.0</td>\n",
              "      <td>0.0</td>\n",
              "      <td>0.0</td>\n",
              "      <td>1.0</td>\n",
              "      <td>0.0</td>\n",
              "      <td>1.0</td>\n",
              "      <td>0.0</td>\n",
              "      <td>0.0</td>\n",
              "      <td>0.0</td>\n",
              "      <td>0.0</td>\n",
              "      <td>0.0</td>\n",
              "      <td>0.0</td>\n",
              "      <td>0.0</td>\n",
              "      <td>0.0</td>\n",
              "      <td>0.0</td>\n",
              "      <td>0.0</td>\n",
              "      <td>0.0</td>\n",
              "      <td>0.0</td>\n",
              "      <td>0.0</td>\n",
              "      <td>0.0</td>\n",
              "      <td>0.0</td>\n",
              "      <td>0.0</td>\n",
              "      <td>0.0</td>\n",
              "      <td>0.0</td>\n",
              "      <td>1.0</td>\n",
              "      <td>0.0</td>\n",
              "      <td>0.0</td>\n",
              "    </tr>\n",
              "  </tbody>\n",
              "</table>\n",
              "<p>5 rows × 437 columns</p>\n",
              "</div>"
            ],
            "text/plain": [
              "   ALTERSKATEGORIE_FEIN  ANZ_HH_TITEL  ...  ZABEOTYP_5  ZABEOTYP_6\n",
              "0                  0.50           0.0  ...         1.0         0.0\n",
              "1                 -0.50           0.0  ...         1.0         0.0\n",
              "2                 -0.25           0.0  ...         0.0         0.0\n",
              "3                 -1.25           0.0  ...         0.0         0.0\n",
              "4                  0.00           0.0  ...         0.0         0.0\n",
              "\n",
              "[5 rows x 437 columns]"
            ]
          },
          "metadata": {
            "tags": []
          },
          "execution_count": 6
        }
      ]
    },
    {
      "cell_type": "code",
      "execution_count": null,
      "metadata": {},
      "outputs": [],
      "source": []
    },
    {
      "source": [
        "### Principal Component Analysis (PCA)\n",
        "\n",
        "PCA is used to reduce the dimensionality of our data. Each prinicpal component is a unit vector that explains the maximal amount of variance.\n",
        "\n",
        "I first tried with a large value of principal components to determine a suitable number of principal components. Through a plot of percentage cumulative variance explained vs the number of components, I will later on select the first 100 prinicpal components as they explain more than 85% of variance."
      ],
      "cell_type": "markdown",
      "metadata": {}
    },
    {
      "cell_type": "code",
      "metadata": {
        "id": "6K2Xtb7cKFup",
        "colab_type": "code",
        "colab": {
          "base_uri": "https://localhost:8080/",
          "height": 235
        },
        "outputId": "90a482e0-7cd4-42db-9bf6-3569ab3e530c"
      },
      "source": [
        "pca = PCA(n_components=437)\n",
        "pca.fit_transform(azdias_scaled)"
      ],
      "execution_count": 8,
      "outputs": [
        {
          "output_type": "execute_result",
          "data": {
            "text/plain": [
              "array([[-5.17339378e+00, -7.12884071e-01,  3.01127841e+00, ...,\n",
              "         1.18219060e-15,  4.82729679e-15, -2.25711921e-16],\n",
              "       [-2.10117998e+00, -1.05854998e+00,  2.72415110e+00, ...,\n",
              "        -6.11973163e-16,  4.10202941e-15,  1.98510420e-15],\n",
              "       [-1.01573112e+00,  4.90913797e-01, -1.96522089e+00, ...,\n",
              "        -7.95713760e-16, -3.68133220e-15,  1.80999895e-15],\n",
              "       ...,\n",
              "       [ 3.35234035e-01, -6.91297983e-01,  2.65589301e+00, ...,\n",
              "        -4.65034908e-18,  1.48817519e-16, -1.51440660e-16],\n",
              "       [-4.30738042e+00, -2.05282677e+00,  5.71439673e-01, ...,\n",
              "        -1.21330707e-16, -2.70266201e-16, -1.40455502e-16],\n",
              "       [ 3.20391215e+00,  9.11771774e-01,  5.15348871e+00, ...,\n",
              "         7.89686198e-17,  9.56011909e-17, -2.29915848e-16]])"
            ]
          },
          "metadata": {
            "tags": []
          },
          "execution_count": 8
        }
      ]
    },
    {
      "cell_type": "code",
      "metadata": {
        "id": "lS5R5ihfMke3",
        "colab_type": "code",
        "colab": {
          "base_uri": "https://localhost:8080/",
          "height": 279
        },
        "outputId": "1bd85f92-9cb0-4b29-a277-c742b12f41aa"
      },
      "source": [
        "pca_plots(pca)"
      ],
      "execution_count": 9,
      "outputs": [
        {
          "output_type": "display_data",
          "data": {
            "image/png": "[encoded data removed]",
            "text/plain": [
              "<Figure size 432x288 with 1 Axes>"
            ]
          },
          "metadata": {
            "tags": [],
            "needs_background": "light"
          }
        }
      ]
    },
    {
      "source": [
        "The cell below shows some of the more important features and their corresponding weights in first and second principal component. The features and weights are sorted in descending order."
      ],
      "cell_type": "markdown",
      "metadata": {}
    },
    {
      "cell_type": "code",
      "metadata": {
        "id": "CiUIKZisQw6i",
        "colab_type": "code",
        "colab": {
          "base_uri": "https://localhost:8080/",
          "height": 218
        },
        "outputId": "de6756bd-bb33-4f66-c8ef-b6de47bf319b"
      },
      "source": [
        "# first principal component\n",
        "get_principal_component(pca, azdias_scaled, 0)"
      ],
      "execution_count": 10,
      "outputs": [
        {
          "output_type": "stream",
          "text": [
            "D19_HAUS_DEKO          0.243046\n",
            "D19_BEKLEIDUNG_REST    0.233349\n",
            "D19_KOSMETIK           0.212510\n",
            "D19_KINDERARTIKEL      0.204340\n",
            "D19_TELKO_MOBILE       0.198775\n",
            "Name: 0, dtype: float64\n",
            "D19_BANKEN_ONLINE_DATUM     -0.132058\n",
            "D19_VERSAND_OFFLINE_DATUM   -0.161060\n",
            "D19_VERSI_DATUM             -0.164999\n",
            "D19_BANKEN_DATUM            -0.169222\n",
            "D19_GESAMT_OFFLINE_DATUM    -0.205326\n",
            "Name: 0, dtype: float64\n"
          ],
          "name": "stdout"
        }
      ]
    },
    {
      "cell_type": "code",
      "metadata": {
        "id": "85ClNrGcMmaT",
        "colab_type": "code",
        "colab": {
          "base_uri": "https://localhost:8080/",
          "height": 218
        },
        "outputId": "f07fcd1a-822f-44d6-f742-aeb5d2d1985d"
      },
      "source": [
        "# seconf principal component\n",
        "get_principal_component(pca, azdias_scaled, 1)"
      ],
      "execution_count": 11,
      "outputs": [
        {
          "output_type": "stream",
          "text": [
            "KBA05_SEG8      0.253791\n",
            "KBA05_SEG6      0.252152\n",
            "KBA05_SEG5      0.250504\n",
            "KBA05_ANHANG    0.237685\n",
            "KBA05_MOTRAD    0.223947\n",
            "Name: 1, dtype: float64\n",
            "KBA13_KW_50                 -0.019709\n",
            "D19_BANKEN_DATUM            -0.019958\n",
            "D19_VERSAND_OFFLINE_DATUM   -0.023706\n",
            "D19_GESAMT_OFFLINE_DATUM    -0.027668\n",
            "KBA05_ANTG3                 -0.034370\n",
            "Name: 1, dtype: float64\n"
          ],
          "name": "stdout"
        }
      ]
    },
    {
      "source": [
        "Now, I reapply PCA using 100 components that explain more than 85% of variance."
      ],
      "cell_type": "markdown",
      "metadata": {}
    },
    {
      "cell_type": "code",
      "metadata": {
        "id": "zbJyWpdANrPU",
        "colab_type": "code",
        "colab": {}
      },
      "source": [
        "# select number of components to retain\n",
        "# reapply PCA with 100 components (more than 85% of variance retained)\n",
        "pca_100 = PCA(n_components=100)\n",
        "azdias_pca = pca_100.fit_transform(azdias_scaled)\n",
        "azdias_pca = pd.DataFrame(azdias_pca)\n",
        "\n",
        "customer_pca = pca_100.transform(customer_scaled)\n",
        "customer_pca = pd.DataFrame(customer_pca)"
      ],
      "execution_count": 15,
      "outputs": []
    },
    {
      "source": [
        "### CLustering\n",
        "\n",
        "Using sklearn's KMeans, I will now perform k-means clustering on the data obtained from pca transformation.\n",
        "\n",
        "To determine the optimal number of clusters into which data can be clustered, the Elbow Method is used. We plot the inertia, which is the sum of squared distances of samples to their closest cluster center against different number of clusters. I then fit a linear regression line to the last few clusters (10th-14th) to determine the number of clusters at which the inertia starts decreasing linearly.\n",
        "\n",
        "In the end, I choose to proceed with 8 clusters."
      ],
      "cell_type": "markdown",
      "metadata": {}
    },
    {
      "cell_type": "code",
      "metadata": {
        "id": "LgpIKS86d-m9",
        "colab_type": "code",
        "colab": {
          "base_uri": "https://localhost:8080/",
          "height": 295
        },
        "outputId": "cb69f393-779b-4d83-d223-bbf01c21349c"
      },
      "source": [
        "from sklearn.cluster import KMeans\n",
        "\n",
        "inertia_l = [] \n",
        "K = range(1,15) \n",
        "\n",
        "for k in K: \n",
        "    #Building and fitting the model \n",
        "    kmeans_model = KMeans(n_clusters=k)\n",
        "    kmeans_model.fit(azdias_pca)     \n",
        "\n",
        "    inertia_l.append(kmeans_model.inertia_) \n",
        "\n",
        "# linear fit to determine a good number of clusters\n",
        "fit = np.polyfit(K[10:], inertia_l[10:], 1)\n",
        "line = np.poly1d(fit)\n",
        "\n",
        "# plot linear fit line\n",
        "plt.plot(K, line(K), c='r')\n",
        "plt.plot(K, inertia_l, 'bx-')\n",
        "\n",
        "plt.xlabel('Number of clusters') \n",
        "plt.ylabel('Inertia (SSE of points to closest center)') \n",
        "plt.title('The Elbow Method') \n",
        "plt.show() "
      ],
      "execution_count": null,
      "outputs": [
        {
          "output_type": "display_data",
          "data": {
            "image/png": "[encoded data removed]",
            "text/plain": [
              "<Figure size 432x288 with 1 Axes>"
            ]
          },
          "metadata": {
            "tags": [],
            "needs_background": "light"
          }
        }
      ]
    },
    {
      "source": [
        "I fit the KMeans instance with 8 clusters to the population data and used it to obtain the cluster assignment for the general population and customers."
      ],
      "cell_type": "markdown",
      "metadata": {}
    },
    {
      "cell_type": "code",
      "metadata": {
        "id": "IoKI9QA16mgx",
        "colab_type": "code",
        "colab": {}
      },
      "source": [
        "from sklearn.cluster import KMeans\n",
        "\n",
        "# fit to number of clusters we determined\n",
        "kmeans_model_8 = KMeans(n_clusters=8)\n",
        "kmeans_model_8.fit(azdias_pca)\n",
        "\n",
        "# predict the cluster each person is in\n",
        "azdias_pred = kmeans_model_8.predict(azdias_pca)"
      ],
      "execution_count": 16,
      "outputs": []
    },
    {
      "cell_type": "code",
      "metadata": {
        "id": "2_XdlEU-FaED",
        "colab_type": "code",
        "colab": {}
      },
      "source": [
        "# predict the cluster each customer is in\n",
        "customer_pred = kmeans_model_8.predict(customer_pca)"
      ],
      "execution_count": 17,
      "outputs": []
    },
    {
      "source": [
        "The figure below shows the number of people in the general populatian that fits into each cluster"
      ],
      "cell_type": "markdown",
      "metadata": {}
    },
    {
      "cell_type": "code",
      "metadata": {
        "id": "-xsy4Lk2fi55",
        "colab_type": "code",
        "colab": {
          "base_uri": "https://localhost:8080/",
          "height": 312
        },
        "outputId": "2fff2119-cf3d-4a76-e975-744811fe106a"
      },
      "source": [
        "sns.countplot(azdias_pred)\n",
        "plt.xlabel('Cluster')\n",
        "plt.ylabel('Number of people')\n",
        "plt.title('General population')"
      ],
      "execution_count": 18,
      "outputs": [
        {
          "output_type": "execute_result",
          "data": {
            "text/plain": [
              "Text(0.5, 1.0, 'General population')"
            ]
          },
          "metadata": {
            "tags": []
          },
          "execution_count": 18
        },
        {
          "output_type": "display_data",
          "data": {
            "image/png": "[encoded data removed]",
            "text/plain": [
              "<Figure size 432x288 with 1 Axes>"
            ]
          },
          "metadata": {
            "tags": [],
            "needs_background": "light"
          }
        }
      ]
    },
    {
      "source": [
        "The figure below shows the number of people in the population that fits into each cluster"
      ],
      "cell_type": "markdown",
      "metadata": {}
    },
    {
      "cell_type": "code",
      "metadata": {
        "id": "tPiApbjEgR5f",
        "colab_type": "code",
        "colab": {
          "base_uri": "https://localhost:8080/",
          "height": 312
        },
        "outputId": "fafd3001-a4ee-4581-de3f-0e854fd27b0c"
      },
      "source": [
        "sns.countplot(customer_pred)\n",
        "plt.xlabel('Cluster')\n",
        "plt.ylabel('Number of people')\n",
        "plt.title('Customers')"
      ],
      "execution_count": 19,
      "outputs": [
        {
          "output_type": "execute_result",
          "data": {
            "text/plain": [
              "Text(0.5, 1.0, 'Customers')"
            ]
          },
          "metadata": {
            "tags": []
          },
          "execution_count": 19
        },
        {
          "output_type": "display_data",
          "data": {
            "image/png": "[encoded data removed]",
            "text/plain": [
              "<Figure size 432x288 with 1 Axes>"
            ]
          },
          "metadata": {
            "tags": [],
            "needs_background": "light"
          }
        }
      ]
    },
    {
      "source": [
        "Next, I will plot the percentage of people from the population and customer data that are assigned to each cluster.\n",
        "\n",
        "If a company's customer-base if fairly universal, then the percentage of people in each cluster for the population and the percentage of people from the customers data should be somewhat similar. If there is a larger percentage of people frpm the customer dataset than from the general population, for example in cluster 7 where ~32% are from the customers dataset and ~12% are from the general population, this suggests that this group might be the target audience of the company.\n",
        "\n",
        "We can see that clusters 7 and 0 are likely targets of the company while clusters 3 and 5 are outside the targeted group."
      ],
      "cell_type": "markdown",
      "metadata": {}
    },
    {
      "cell_type": "code",
      "metadata": {
        "id": "YHr0nJEZ1ucj",
        "colab_type": "code",
        "colab": {
          "base_uri": "https://localhost:8080/",
          "height": 279
        },
        "outputId": "86cd4c99-f4fe-4f51-b6d5-cab786ac9d98"
      },
      "source": [
        "plot_kmeans(customer_pred, azdias_pred)"
      ],
      "execution_count": 20,
      "outputs": [
        {
          "output_type": "display_data",
          "data": {
            "image/png": "[encoded data removed]",
            "text/plain": [
              "<Figure size 432x288 with 1 Axes>"
            ]
          },
          "metadata": {
            "tags": [],
            "needs_background": "light"
          }
        }
      ]
    },
    {
      "source": [
        "Below are the clusters that are more popular with the company. \n",
        "\n",
        "It seems as if transactional activity based on the product group house decoration, cosmetic products and travel related products are positively related while having the last transaction with the complete file offline and for the segment mail-order offline are negatively related.\n",
        "\n",
        "In cluster 0, transactional activity based on the product group LOTTO contributes extremely postively to the cluster.\n"
      ],
      "cell_type": "markdown",
      "metadata": {}
    },
    {
      "cell_type": "code",
      "metadata": {
        "id": "s5cO2z245Hf2",
        "colab_type": "code",
        "colab": {
          "base_uri": "https://localhost:8080/",
          "height": 265
        },
        "outputId": "4e8a9c20-4346-4eea-cdba-7cbb08b39a45"
      },
      "source": [
        "get_important_features(pca_100, kmeans_model_8, 7, customer_scaled)"
      ],
      "execution_count": 25,
      "outputs": [
        {
          "output_type": "display_data",
          "data": {
            "image/png": "[encoded data removed]",
            "text/plain": [
              "<Figure size 432x288 with 1 Axes>"
            ]
          },
          "metadata": {
            "tags": [],
            "needs_background": "light"
          }
        }
      ]
    },
    {
      "cell_type": "code",
      "metadata": {
        "id": "f5qo_vAiwr3Q",
        "colab_type": "code",
        "colab": {
          "base_uri": "https://localhost:8080/",
          "height": 265
        },
        "outputId": "119dc212-45ca-48aa-d55c-c66c7170faa3"
      },
      "source": [
        "get_important_features(pca_100, kmeans_model_8, 0, customer_scaled)"
      ],
      "execution_count": 21,
      "outputs": [
        {
          "output_type": "display_data",
          "data": {
            "image/png": "[encoded data removed]",
            "text/plain": [
              "<Figure size 432x288 with 1 Axes>"
            ]
          },
          "metadata": {
            "tags": [],
            "needs_background": "light"
          }
        }
      ]
    },
    {
      "source": [
        "The next 2 cells shows features of clusters that are relatively unpopular with the company.\n",
        "\n",
        "The number of households in the building and the transactional activity based on the product group direct bank are positively related.\n",
        "\n",
        "Features that are negatively related include share of cars with max speed greater than 210 km/h within the PLZ8 and the last transaction for the bank total segment."
      ],
      "cell_type": "markdown",
      "metadata": {}
    },
    {
      "cell_type": "code",
      "metadata": {
        "id": "PasxuD1O5Orl",
        "colab_type": "code",
        "colab": {
          "base_uri": "https://localhost:8080/",
          "height": 265
        },
        "outputId": "3f00ed3d-3323-4235-fc02-36f4612f25c1"
      },
      "source": [
        "get_important_features(pca_100, kmeans_model_8, 3, customer_scaled)"
      ],
      "execution_count": 26,
      "outputs": [
        {
          "output_type": "display_data",
          "data": {
            "image/png": "[encoded data removed]",
            "text/plain": [
              "<Figure size 432x288 with 1 Axes>"
            ]
          },
          "metadata": {
            "tags": [],
            "needs_background": "light"
          }
        }
      ]
    },
    {
      "cell_type": "code",
      "metadata": {
        "id": "H2Msa01i2gTh",
        "colab_type": "code",
        "colab": {
          "base_uri": "https://localhost:8080/",
          "height": 265
        },
        "outputId": "b27a4f05-4ef5-440f-bd46-d27be12931e0"
      },
      "source": [
        "get_important_features(pca_100, kmeans_model_8, 5, customer_scaled)"
      ],
      "execution_count": 24,
      "outputs": [
        {
          "output_type": "display_data",
          "data": {
            "image/png": "[encoded data removed]",
            "text/plain": [
              "<Figure size 432x288 with 1 Axes>"
            ]
          },
          "metadata": {
            "tags": [],
            "needs_background": "light"
          }
        }
      ]
    }
  ]
}