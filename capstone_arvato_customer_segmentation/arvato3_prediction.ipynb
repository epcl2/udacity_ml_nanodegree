{
  "nbformat": 4,
  "nbformat_minor": 0,
  "metadata": {
    "colab": {
      "name": "arvato_predict_cleaner.ipynb",
      "provenance": [],
      "collapsed_sections": [],
      "toc_visible": true
    },
    "kernelspec": {
      "name": "python3",
      "display_name": "Python 3"
    }
  },
  "cells": [
    {
      "cell_type": "markdown",
      "metadata": {
        "id": "GcE8gx1EpCYB"
      },
      "source": [
        "# Capstone Project: Create a Customer Segmentation Report for Arvato Financial Services"
      ]
    },
    {
      "cell_type": "markdown",
      "metadata": {
        "id": "9pMQZg0qpCYD"
      },
      "source": [
        "## Part 3: Kaggle Competition\n",
        "\n",
        "In this notebook, I will create a model to predict individuals that are most likely to respond to a mailout campaign. The model will be tested in a competition on Kaggle.\n",
        "\n",
        "Since there is a large imbalance in dataset, in which most people do not repond to the campaign, using accuracy to capture the performance of the model would not be very appropriate. Instead, the AUC which is the Area under the ROC curve will be used to evaluate how good the model is. The ROC curve plots the True Postive Rate against the False Positive Rate, which can be throught of as the proportion of correct predictions for the positive class against the proportion of errors for the negative class. The AUC provides a score between 0 and 1, and the closer the score is to 1, the better the model is."
      ]
    },
    {
      "cell_type": "markdown",
      "metadata": {
        "id": "IqkYP7l0pCYE"
      },
      "source": [
        "### Import Libraries"
      ]
    },
    {
      "cell_type": "code",
      "metadata": {
        "id": "bHPfZxN8sNb3"
      },
      "source": [
        "# import libraries here; add more as necessary\n",
        "import numpy as np\n",
        "import pandas as pd\n",
        "import matplotlib.pyplot as plt\n",
        "import seaborn as sns\n",
        "\n",
        "%matplotlib inline\n",
        "\n",
        "from sklearn.impute import SimpleImputer\n",
        "from sklearn.model_selection import cross_validate, RandomizedSearchCV, train_test_split\n",
        "from sklearn.tree import DecisionTreeClassifier\n",
        "from sklearn.linear_model import LogisticRegression\n",
        "from sklearn.ensemble import RandomForestClassifier\n",
        "from sklearn import preprocessing\n",
        "\n",
        "from xgboost import XGBRFClassifier, XGBClassifier\n",
        "from lightgbm import LGBMClassifier\n"
      ],
      "execution_count": 2,
      "outputs": []
    },
    {
      "cell_type": "code",
      "metadata": {
        "id": "EMKDXjSd0ep1"
      },
      "source": [
        "from helpers import optimize_df, check_df_columns, dropna_df, feat_engr, get_classification, plot_importance_features"
      ],
      "execution_count": 3,
      "outputs": []
    },
    {
      "cell_type": "markdown",
      "metadata": {
        "id": "C02SOk5IpCYT"
      },
      "source": [
        "### Cleaning data and Feature Engineering"
      ]
    },
    {
      "cell_type": "code",
      "metadata": {
        "id": "2UIBMxXnsW9z",
        "outputId": "b90cca06-35eb-4357-e1e4-bd171abe572a",
        "colab": {
          "base_uri": "https://localhost:8080/",
          "height": 70
        }
      },
      "source": [
        "# load in the data\n",
        "train = pd.read_csv(\"Udacity_MAILOUT_052018_TRAIN.csv\", sep=';')\n",
        "test = pd.read_csv(\"Udacity_MAILOUT_052018_TEST.csv\", sep=';')"
      ],
      "execution_count": 4,
      "outputs": [
        {
          "output_type": "stream",
          "text": [
            "/usr/local/lib/python3.6/dist-packages/IPython/core/interactiveshell.py:2718: DtypeWarning: Columns (18,19) have mixed types.Specify dtype option on import or set low_memory=False.\n",
            "  interactivity=interactivity, compiler=compiler, result=result)\n"
          ],
          "name": "stderr"
        }
      ]
    },
    {
      "cell_type": "code",
      "metadata": {
        "id": "QJMVBQH0syeC",
        "outputId": "ac7bd68d-f62f-4fe0-bd9c-0feddb997c53",
        "colab": {
          "base_uri": "https://localhost:8080/",
          "height": 244
        }
      },
      "source": [
        "train.head()"
      ],
      "execution_count": 5,
      "outputs": [
        {
          "output_type": "execute_result",
          "data": {
            "text/html": [
              "<div>\n",
              "<style scoped>\n",
              "    .dataframe tbody tr th:only-of-type {\n",
              "        vertical-align: middle;\n",
              "    }\n",
              "\n",
              "    .dataframe tbody tr th {\n",
              "        vertical-align: top;\n",
              "    }\n",
              "\n",
              "    .dataframe thead th {\n",
              "        text-align: right;\n",
              "    }\n",
              "</style>\n",
              "<table border=\"1\" class=\"dataframe\">\n",
              "  <thead>\n",
              "    <tr style=\"text-align: right;\">\n",
              "      <th></th>\n",
              "      <th>LNR</th>\n",
              "      <th>AGER_TYP</th>\n",
              "      <th>AKT_DAT_KL</th>\n",
              "      <th>ALTER_HH</th>\n",
              "      <th>ALTER_KIND1</th>\n",
              "      <th>ALTER_KIND2</th>\n",
              "      <th>ALTER_KIND3</th>\n",
              "      <th>ALTER_KIND4</th>\n",
              "      <th>ALTERSKATEGORIE_FEIN</th>\n",
              "      <th>ANZ_HAUSHALTE_AKTIV</th>\n",
              "      <th>ANZ_HH_TITEL</th>\n",
              "      <th>ANZ_KINDER</th>\n",
              "      <th>ANZ_PERSONEN</th>\n",
              "      <th>ANZ_STATISTISCHE_HAUSHALTE</th>\n",
              "      <th>ANZ_TITEL</th>\n",
              "      <th>ARBEIT</th>\n",
              "      <th>BALLRAUM</th>\n",
              "      <th>CAMEO_DEU_2015</th>\n",
              "      <th>CAMEO_DEUG_2015</th>\n",
              "      <th>CAMEO_INTL_2015</th>\n",
              "      <th>CJT_GESAMTTYP</th>\n",
              "      <th>CJT_KATALOGNUTZER</th>\n",
              "      <th>CJT_TYP_1</th>\n",
              "      <th>CJT_TYP_2</th>\n",
              "      <th>CJT_TYP_3</th>\n",
              "      <th>CJT_TYP_4</th>\n",
              "      <th>CJT_TYP_5</th>\n",
              "      <th>CJT_TYP_6</th>\n",
              "      <th>D19_BANKEN_ANZ_12</th>\n",
              "      <th>D19_BANKEN_ANZ_24</th>\n",
              "      <th>D19_BANKEN_DATUM</th>\n",
              "      <th>D19_BANKEN_DIREKT</th>\n",
              "      <th>D19_BANKEN_GROSS</th>\n",
              "      <th>D19_BANKEN_LOKAL</th>\n",
              "      <th>D19_BANKEN_OFFLINE_DATUM</th>\n",
              "      <th>D19_BANKEN_ONLINE_DATUM</th>\n",
              "      <th>D19_BANKEN_ONLINE_QUOTE_12</th>\n",
              "      <th>D19_BANKEN_REST</th>\n",
              "      <th>D19_BEKLEIDUNG_GEH</th>\n",
              "      <th>D19_BEKLEIDUNG_REST</th>\n",
              "      <th>...</th>\n",
              "      <th>RELAT_AB</th>\n",
              "      <th>RETOURTYP_BK_S</th>\n",
              "      <th>RT_KEIN_ANREIZ</th>\n",
              "      <th>RT_SCHNAEPPCHEN</th>\n",
              "      <th>RT_UEBERGROESSE</th>\n",
              "      <th>SEMIO_DOM</th>\n",
              "      <th>SEMIO_ERL</th>\n",
              "      <th>SEMIO_FAM</th>\n",
              "      <th>SEMIO_KAEM</th>\n",
              "      <th>SEMIO_KRIT</th>\n",
              "      <th>SEMIO_KULT</th>\n",
              "      <th>SEMIO_LUST</th>\n",
              "      <th>SEMIO_MAT</th>\n",
              "      <th>SEMIO_PFLICHT</th>\n",
              "      <th>SEMIO_RAT</th>\n",
              "      <th>SEMIO_REL</th>\n",
              "      <th>SEMIO_SOZ</th>\n",
              "      <th>SEMIO_TRADV</th>\n",
              "      <th>SEMIO_VERT</th>\n",
              "      <th>SHOPPER_TYP</th>\n",
              "      <th>SOHO_KZ</th>\n",
              "      <th>STRUKTURTYP</th>\n",
              "      <th>TITEL_KZ</th>\n",
              "      <th>UMFELD_ALT</th>\n",
              "      <th>UMFELD_JUNG</th>\n",
              "      <th>UNGLEICHENN_FLAG</th>\n",
              "      <th>VERDICHTUNGSRAUM</th>\n",
              "      <th>VERS_TYP</th>\n",
              "      <th>VHA</th>\n",
              "      <th>VHN</th>\n",
              "      <th>VK_DHT4A</th>\n",
              "      <th>VK_DISTANZ</th>\n",
              "      <th>VK_ZG11</th>\n",
              "      <th>W_KEIT_KIND_HH</th>\n",
              "      <th>WOHNDAUER_2008</th>\n",
              "      <th>WOHNLAGE</th>\n",
              "      <th>ZABEOTYP</th>\n",
              "      <th>RESPONSE</th>\n",
              "      <th>ANREDE_KZ</th>\n",
              "      <th>ALTERSKATEGORIE_GROB</th>\n",
              "    </tr>\n",
              "  </thead>\n",
              "  <tbody>\n",
              "    <tr>\n",
              "      <th>0</th>\n",
              "      <td>1763</td>\n",
              "      <td>2</td>\n",
              "      <td>1.0</td>\n",
              "      <td>8.0</td>\n",
              "      <td>NaN</td>\n",
              "      <td>NaN</td>\n",
              "      <td>NaN</td>\n",
              "      <td>NaN</td>\n",
              "      <td>8.0</td>\n",
              "      <td>15.0</td>\n",
              "      <td>0.0</td>\n",
              "      <td>0.0</td>\n",
              "      <td>1.0</td>\n",
              "      <td>13.0</td>\n",
              "      <td>0.0</td>\n",
              "      <td>3.0</td>\n",
              "      <td>5.0</td>\n",
              "      <td>5D</td>\n",
              "      <td>5</td>\n",
              "      <td>34</td>\n",
              "      <td>2.0</td>\n",
              "      <td>5.0</td>\n",
              "      <td>2.0</td>\n",
              "      <td>2.0</td>\n",
              "      <td>5.0</td>\n",
              "      <td>5.0</td>\n",
              "      <td>5.0</td>\n",
              "      <td>5.0</td>\n",
              "      <td>0</td>\n",
              "      <td>0</td>\n",
              "      <td>10</td>\n",
              "      <td>0</td>\n",
              "      <td>0</td>\n",
              "      <td>0</td>\n",
              "      <td>10</td>\n",
              "      <td>10</td>\n",
              "      <td>0.0</td>\n",
              "      <td>0</td>\n",
              "      <td>0</td>\n",
              "      <td>0</td>\n",
              "      <td>...</td>\n",
              "      <td>5.0</td>\n",
              "      <td>5.0</td>\n",
              "      <td>2.0</td>\n",
              "      <td>5.0</td>\n",
              "      <td>1.0</td>\n",
              "      <td>6</td>\n",
              "      <td>7</td>\n",
              "      <td>2</td>\n",
              "      <td>6</td>\n",
              "      <td>6</td>\n",
              "      <td>1</td>\n",
              "      <td>7</td>\n",
              "      <td>1</td>\n",
              "      <td>3</td>\n",
              "      <td>2</td>\n",
              "      <td>1</td>\n",
              "      <td>5</td>\n",
              "      <td>1</td>\n",
              "      <td>3</td>\n",
              "      <td>3</td>\n",
              "      <td>0.0</td>\n",
              "      <td>3.0</td>\n",
              "      <td>0.0</td>\n",
              "      <td>2.0</td>\n",
              "      <td>4.0</td>\n",
              "      <td>0.0</td>\n",
              "      <td>4.0</td>\n",
              "      <td>2</td>\n",
              "      <td>1.0</td>\n",
              "      <td>2.0</td>\n",
              "      <td>5.0</td>\n",
              "      <td>2.0</td>\n",
              "      <td>1.0</td>\n",
              "      <td>6.0</td>\n",
              "      <td>9.0</td>\n",
              "      <td>3.0</td>\n",
              "      <td>3</td>\n",
              "      <td>0</td>\n",
              "      <td>2</td>\n",
              "      <td>4</td>\n",
              "    </tr>\n",
              "    <tr>\n",
              "      <th>1</th>\n",
              "      <td>1771</td>\n",
              "      <td>1</td>\n",
              "      <td>4.0</td>\n",
              "      <td>13.0</td>\n",
              "      <td>NaN</td>\n",
              "      <td>NaN</td>\n",
              "      <td>NaN</td>\n",
              "      <td>NaN</td>\n",
              "      <td>13.0</td>\n",
              "      <td>1.0</td>\n",
              "      <td>0.0</td>\n",
              "      <td>0.0</td>\n",
              "      <td>2.0</td>\n",
              "      <td>1.0</td>\n",
              "      <td>0.0</td>\n",
              "      <td>2.0</td>\n",
              "      <td>5.0</td>\n",
              "      <td>5B</td>\n",
              "      <td>5</td>\n",
              "      <td>32</td>\n",
              "      <td>2.0</td>\n",
              "      <td>2.0</td>\n",
              "      <td>2.0</td>\n",
              "      <td>2.0</td>\n",
              "      <td>4.0</td>\n",
              "      <td>3.0</td>\n",
              "      <td>5.0</td>\n",
              "      <td>4.0</td>\n",
              "      <td>1</td>\n",
              "      <td>1</td>\n",
              "      <td>5</td>\n",
              "      <td>0</td>\n",
              "      <td>0</td>\n",
              "      <td>3</td>\n",
              "      <td>10</td>\n",
              "      <td>10</td>\n",
              "      <td>0.0</td>\n",
              "      <td>0</td>\n",
              "      <td>0</td>\n",
              "      <td>6</td>\n",
              "      <td>...</td>\n",
              "      <td>1.0</td>\n",
              "      <td>2.0</td>\n",
              "      <td>3.0</td>\n",
              "      <td>1.0</td>\n",
              "      <td>3.0</td>\n",
              "      <td>6</td>\n",
              "      <td>6</td>\n",
              "      <td>1</td>\n",
              "      <td>5</td>\n",
              "      <td>6</td>\n",
              "      <td>3</td>\n",
              "      <td>6</td>\n",
              "      <td>5</td>\n",
              "      <td>5</td>\n",
              "      <td>4</td>\n",
              "      <td>3</td>\n",
              "      <td>1</td>\n",
              "      <td>3</td>\n",
              "      <td>4</td>\n",
              "      <td>2</td>\n",
              "      <td>0.0</td>\n",
              "      <td>1.0</td>\n",
              "      <td>0.0</td>\n",
              "      <td>2.0</td>\n",
              "      <td>5.0</td>\n",
              "      <td>0.0</td>\n",
              "      <td>0.0</td>\n",
              "      <td>1</td>\n",
              "      <td>1.0</td>\n",
              "      <td>3.0</td>\n",
              "      <td>1.0</td>\n",
              "      <td>2.0</td>\n",
              "      <td>1.0</td>\n",
              "      <td>4.0</td>\n",
              "      <td>9.0</td>\n",
              "      <td>7.0</td>\n",
              "      <td>1</td>\n",
              "      <td>0</td>\n",
              "      <td>2</td>\n",
              "      <td>3</td>\n",
              "    </tr>\n",
              "    <tr>\n",
              "      <th>2</th>\n",
              "      <td>1776</td>\n",
              "      <td>1</td>\n",
              "      <td>1.0</td>\n",
              "      <td>9.0</td>\n",
              "      <td>NaN</td>\n",
              "      <td>NaN</td>\n",
              "      <td>NaN</td>\n",
              "      <td>NaN</td>\n",
              "      <td>7.0</td>\n",
              "      <td>0.0</td>\n",
              "      <td>NaN</td>\n",
              "      <td>0.0</td>\n",
              "      <td>0.0</td>\n",
              "      <td>1.0</td>\n",
              "      <td>0.0</td>\n",
              "      <td>4.0</td>\n",
              "      <td>1.0</td>\n",
              "      <td>2D</td>\n",
              "      <td>2</td>\n",
              "      <td>14</td>\n",
              "      <td>4.0</td>\n",
              "      <td>5.0</td>\n",
              "      <td>1.0</td>\n",
              "      <td>1.0</td>\n",
              "      <td>5.0</td>\n",
              "      <td>5.0</td>\n",
              "      <td>5.0</td>\n",
              "      <td>5.0</td>\n",
              "      <td>0</td>\n",
              "      <td>1</td>\n",
              "      <td>7</td>\n",
              "      <td>0</td>\n",
              "      <td>0</td>\n",
              "      <td>0</td>\n",
              "      <td>10</td>\n",
              "      <td>7</td>\n",
              "      <td>0.0</td>\n",
              "      <td>5</td>\n",
              "      <td>0</td>\n",
              "      <td>0</td>\n",
              "      <td>...</td>\n",
              "      <td>4.0</td>\n",
              "      <td>3.0</td>\n",
              "      <td>1.0</td>\n",
              "      <td>5.0</td>\n",
              "      <td>2.0</td>\n",
              "      <td>3</td>\n",
              "      <td>3</td>\n",
              "      <td>4</td>\n",
              "      <td>1</td>\n",
              "      <td>3</td>\n",
              "      <td>4</td>\n",
              "      <td>7</td>\n",
              "      <td>6</td>\n",
              "      <td>1</td>\n",
              "      <td>1</td>\n",
              "      <td>5</td>\n",
              "      <td>3</td>\n",
              "      <td>1</td>\n",
              "      <td>7</td>\n",
              "      <td>3</td>\n",
              "      <td>0.0</td>\n",
              "      <td>3.0</td>\n",
              "      <td>0.0</td>\n",
              "      <td>1.0</td>\n",
              "      <td>5.0</td>\n",
              "      <td>0.0</td>\n",
              "      <td>10.0</td>\n",
              "      <td>1</td>\n",
              "      <td>4.0</td>\n",
              "      <td>1.0</td>\n",
              "      <td>6.0</td>\n",
              "      <td>4.0</td>\n",
              "      <td>2.0</td>\n",
              "      <td>NaN</td>\n",
              "      <td>9.0</td>\n",
              "      <td>2.0</td>\n",
              "      <td>3</td>\n",
              "      <td>0</td>\n",
              "      <td>1</td>\n",
              "      <td>4</td>\n",
              "    </tr>\n",
              "    <tr>\n",
              "      <th>3</th>\n",
              "      <td>1460</td>\n",
              "      <td>2</td>\n",
              "      <td>1.0</td>\n",
              "      <td>6.0</td>\n",
              "      <td>NaN</td>\n",
              "      <td>NaN</td>\n",
              "      <td>NaN</td>\n",
              "      <td>NaN</td>\n",
              "      <td>6.0</td>\n",
              "      <td>4.0</td>\n",
              "      <td>0.0</td>\n",
              "      <td>0.0</td>\n",
              "      <td>2.0</td>\n",
              "      <td>4.0</td>\n",
              "      <td>0.0</td>\n",
              "      <td>4.0</td>\n",
              "      <td>2.0</td>\n",
              "      <td>2D</td>\n",
              "      <td>2</td>\n",
              "      <td>14</td>\n",
              "      <td>2.0</td>\n",
              "      <td>5.0</td>\n",
              "      <td>2.0</td>\n",
              "      <td>2.0</td>\n",
              "      <td>5.0</td>\n",
              "      <td>5.0</td>\n",
              "      <td>5.0</td>\n",
              "      <td>4.0</td>\n",
              "      <td>0</td>\n",
              "      <td>0</td>\n",
              "      <td>10</td>\n",
              "      <td>0</td>\n",
              "      <td>0</td>\n",
              "      <td>0</td>\n",
              "      <td>10</td>\n",
              "      <td>10</td>\n",
              "      <td>0.0</td>\n",
              "      <td>0</td>\n",
              "      <td>0</td>\n",
              "      <td>6</td>\n",
              "      <td>...</td>\n",
              "      <td>3.0</td>\n",
              "      <td>5.0</td>\n",
              "      <td>2.0</td>\n",
              "      <td>5.0</td>\n",
              "      <td>1.0</td>\n",
              "      <td>5</td>\n",
              "      <td>7</td>\n",
              "      <td>1</td>\n",
              "      <td>6</td>\n",
              "      <td>7</td>\n",
              "      <td>1</td>\n",
              "      <td>7</td>\n",
              "      <td>1</td>\n",
              "      <td>4</td>\n",
              "      <td>2</td>\n",
              "      <td>2</td>\n",
              "      <td>5</td>\n",
              "      <td>3</td>\n",
              "      <td>2</td>\n",
              "      <td>1</td>\n",
              "      <td>0.0</td>\n",
              "      <td>3.0</td>\n",
              "      <td>0.0</td>\n",
              "      <td>3.0</td>\n",
              "      <td>5.0</td>\n",
              "      <td>0.0</td>\n",
              "      <td>5.0</td>\n",
              "      <td>2</td>\n",
              "      <td>1.0</td>\n",
              "      <td>4.0</td>\n",
              "      <td>8.0</td>\n",
              "      <td>11.0</td>\n",
              "      <td>11.0</td>\n",
              "      <td>6.0</td>\n",
              "      <td>9.0</td>\n",
              "      <td>1.0</td>\n",
              "      <td>3</td>\n",
              "      <td>0</td>\n",
              "      <td>2</td>\n",
              "      <td>4</td>\n",
              "    </tr>\n",
              "    <tr>\n",
              "      <th>4</th>\n",
              "      <td>1783</td>\n",
              "      <td>2</td>\n",
              "      <td>1.0</td>\n",
              "      <td>9.0</td>\n",
              "      <td>NaN</td>\n",
              "      <td>NaN</td>\n",
              "      <td>NaN</td>\n",
              "      <td>NaN</td>\n",
              "      <td>9.0</td>\n",
              "      <td>53.0</td>\n",
              "      <td>0.0</td>\n",
              "      <td>0.0</td>\n",
              "      <td>1.0</td>\n",
              "      <td>44.0</td>\n",
              "      <td>0.0</td>\n",
              "      <td>3.0</td>\n",
              "      <td>4.0</td>\n",
              "      <td>7B</td>\n",
              "      <td>7</td>\n",
              "      <td>41</td>\n",
              "      <td>6.0</td>\n",
              "      <td>5.0</td>\n",
              "      <td>1.0</td>\n",
              "      <td>2.0</td>\n",
              "      <td>5.0</td>\n",
              "      <td>5.0</td>\n",
              "      <td>5.0</td>\n",
              "      <td>5.0</td>\n",
              "      <td>0</td>\n",
              "      <td>0</td>\n",
              "      <td>10</td>\n",
              "      <td>0</td>\n",
              "      <td>0</td>\n",
              "      <td>0</td>\n",
              "      <td>10</td>\n",
              "      <td>10</td>\n",
              "      <td>0.0</td>\n",
              "      <td>0</td>\n",
              "      <td>5</td>\n",
              "      <td>0</td>\n",
              "      <td>...</td>\n",
              "      <td>3.0</td>\n",
              "      <td>5.0</td>\n",
              "      <td>1.0</td>\n",
              "      <td>5.0</td>\n",
              "      <td>1.0</td>\n",
              "      <td>5</td>\n",
              "      <td>4</td>\n",
              "      <td>6</td>\n",
              "      <td>2</td>\n",
              "      <td>5</td>\n",
              "      <td>5</td>\n",
              "      <td>6</td>\n",
              "      <td>6</td>\n",
              "      <td>4</td>\n",
              "      <td>5</td>\n",
              "      <td>4</td>\n",
              "      <td>6</td>\n",
              "      <td>2</td>\n",
              "      <td>7</td>\n",
              "      <td>1</td>\n",
              "      <td>0.0</td>\n",
              "      <td>3.0</td>\n",
              "      <td>0.0</td>\n",
              "      <td>2.0</td>\n",
              "      <td>5.0</td>\n",
              "      <td>0.0</td>\n",
              "      <td>4.0</td>\n",
              "      <td>1</td>\n",
              "      <td>0.0</td>\n",
              "      <td>4.0</td>\n",
              "      <td>2.0</td>\n",
              "      <td>2.0</td>\n",
              "      <td>1.0</td>\n",
              "      <td>6.0</td>\n",
              "      <td>9.0</td>\n",
              "      <td>3.0</td>\n",
              "      <td>3</td>\n",
              "      <td>0</td>\n",
              "      <td>1</td>\n",
              "      <td>3</td>\n",
              "    </tr>\n",
              "  </tbody>\n",
              "</table>\n",
              "<p>5 rows × 367 columns</p>\n",
              "</div>"
            ],
            "text/plain": [
              "    LNR  AGER_TYP  AKT_DAT_KL  ...  RESPONSE  ANREDE_KZ  ALTERSKATEGORIE_GROB\n",
              "0  1763         2         1.0  ...         0          2                     4\n",
              "1  1771         1         4.0  ...         0          2                     3\n",
              "2  1776         1         1.0  ...         0          1                     4\n",
              "3  1460         2         1.0  ...         0          2                     4\n",
              "4  1783         2         1.0  ...         0          1                     3\n",
              "\n",
              "[5 rows x 367 columns]"
            ]
          },
          "metadata": {
            "tags": []
          },
          "execution_count": 5
        }
      ]
    },
    {
      "cell_type": "markdown",
      "metadata": {
        "id": "MeC1taXspCYj"
      },
      "source": [
        "I will first check to see if the train and test set have the same columns. It seems that they have, with the test set having an extra 'RESPONSE' column which is the target value."
      ]
    },
    {
      "cell_type": "code",
      "metadata": {
        "id": "AzUmtn1Vss9L",
        "outputId": "5efb846f-95f1-4a5f-bd07-9075c2245c64",
        "colab": {
          "base_uri": "https://localhost:8080/",
          "height": 50
        }
      },
      "source": [
        "check_df_columns(train, test)"
      ],
      "execution_count": 6,
      "outputs": [
        {
          "output_type": "stream",
          "text": [
            "df1 has these extra columns:  {'RESPONSE'}\n",
            "df2 has these extra columns:  set()\n"
          ],
          "name": "stdout"
        }
      ]
    },
    {
      "cell_type": "markdown",
      "metadata": {
        "id": "sR1urqcHpCYr"
      },
      "source": [
        "I will then clean the dataset and do some feature engineering with the train and test set as before."
      ]
    },
    {
      "cell_type": "code",
      "metadata": {
        "id": "e7I1Knl4s5zJ",
        "outputId": "0ae4b911-9e89-47a0-fdd8-80bc30816866",
        "colab": {
          "base_uri": "https://localhost:8080/",
          "height": 84
        }
      },
      "source": [
        "train_clean, test_clean = dropna_df(train, test)"
      ],
      "execution_count": 7,
      "outputs": [
        {
          "output_type": "stream",
          "text": [
            "cleaning columns:  Index(['CAMEO_DEUG_2015', 'CAMEO_INTL_2015'], dtype='object')\n",
            "cleaning column: CAMEO_DEU_2015\n",
            "cleaning columns:  ['AGER_TYP', 'HEALTH_TYP', 'SHOPPER_TYP', 'VERS_TYP']\n",
            "dropping columns:  ['ALTER_KIND1', 'ALTER_KIND2', 'ALTER_KIND3', 'ALTER_KIND4', 'KK_KUNDENTYP', 'KBA13_HERST_SONST']\n"
          ],
          "name": "stdout"
        }
      ]
    },
    {
      "cell_type": "code",
      "metadata": {
        "id": "tKRGLMhmvDvn"
      },
      "source": [
        "train_clean = feat_engr(train_clean)\n",
        "test_clean = feat_engr(test_clean)"
      ],
      "execution_count": 8,
      "outputs": []
    },
    {
      "cell_type": "markdown",
      "metadata": {
        "id": "kHZmce-3pCY6"
      },
      "source": [
        "Quick check to ensure that the train and test set still have the same columns."
      ]
    },
    {
      "cell_type": "code",
      "metadata": {
        "id": "cgh1RdL-vNUH",
        "outputId": "83489654-8839-4168-e09c-8ccd3ee2c25d",
        "colab": {
          "base_uri": "https://localhost:8080/",
          "height": 50
        }
      },
      "source": [
        "check_df_columns(train_clean, test_clean)"
      ],
      "execution_count": 9,
      "outputs": [
        {
          "output_type": "stream",
          "text": [
            "df1 has these extra columns:  {'RESPONSE'}\n",
            "df2 has these extra columns:  set()\n"
          ],
          "name": "stdout"
        }
      ]
    },
    {
      "cell_type": "markdown",
      "metadata": {
        "id": "ikGL5flspCZB"
      },
      "source": [
        "I will now drop the extra 'RESPONSE' column in the train set"
      ]
    },
    {
      "cell_type": "code",
      "metadata": {
        "id": "HCfEm8aZ8Ssl"
      },
      "source": [
        "# drop the extra 'response' column\n",
        "train_response = train_clean['RESPONSE']\n",
        "train_clean = train_clean.drop(columns=['RESPONSE'])"
      ],
      "execution_count": 10,
      "outputs": []
    },
    {
      "cell_type": "markdown",
      "metadata": {
        "id": "F2TaNswvpCZK"
      },
      "source": [
        "Impute the missing values as in the previous notebook."
      ]
    },
    {
      "cell_type": "code",
      "metadata": {
        "id": "3wOmhROUw4Hv"
      },
      "source": [
        "# impute NAs using mode\n",
        "imputer = SimpleImputer(strategy='most_frequent')\n",
        "\n",
        "# fit imputer on training data\n",
        "imputer.fit(train_clean)\n",
        "\n",
        "# fill in NAs in train and test set\n",
        "train_imputed = imputer.transform(train_clean)\n",
        "train_imputed = pd.DataFrame(train_imputed, columns=train_clean.columns)\n",
        "\n",
        "test_imputed = imputer.transform(test_clean)\n",
        "test_imputed = pd.DataFrame(test_imputed, columns=test_clean.columns)"
      ],
      "execution_count": 11,
      "outputs": []
    },
    {
      "cell_type": "markdown",
      "metadata": {
        "id": "2O42uEykpCZR"
      },
      "source": [
        "Here, I have plotted the number of people who did and did not respond. As we can see, most of the individuals did not respond."
      ]
    },
    {
      "cell_type": "code",
      "metadata": {
        "id": "a29L2g0XyI3S",
        "outputId": "85b3a648-4a47-48ed-c27f-cfe0766ffdc3",
        "colab": {
          "base_uri": "https://localhost:8080/",
          "height": 281
        }
      },
      "source": [
        "plt.bar(train_response.unique(), train_response.value_counts())\n",
        "plt.xticks(np.arange(0, 2, step=1))\n",
        "plt.title('campaign responses')\n",
        "plt.ylabel('num responses')\n",
        "plt.show()"
      ],
      "execution_count": 12,
      "outputs": [
        {
          "output_type": "display_data",
          "data": {
            "image/png": "[encoded data removed]",
            "text/plain": [
              "<Figure size 432x288 with 1 Axes>"
            ]
          },
          "metadata": {
            "tags": [],
            "needs_background": "light"
          }
        }
      ]
    },
    {
      "cell_type": "markdown",
      "metadata": {
        "id": "W21v0tLDpCZX"
      },
      "source": [
        "I will drop the 'LNR' column as well as it represents the individual's ID and would not be useful for training."
      ]
    },
    {
      "cell_type": "code",
      "metadata": {
        "id": "JHYYm7M9rZyS"
      },
      "source": [
        "# drop 'LNR' column as it should not be used for training\n",
        "train_data = train_imputed.drop(columns=['LNR'])\n",
        "test_data = test_imputed.drop(columns=['LNR'])"
      ],
      "execution_count": 13,
      "outputs": []
    },
    {
      "cell_type": "markdown",
      "metadata": {
        "id": "TBucz06spCZq"
      },
      "source": [
        "### Training the Model and Predicting"
      ]
    },
    {
      "cell_type": "markdown",
      "metadata": {
        "id": "xR7y1gmVpCZr"
      },
      "source": [
        "I will now train a simple decision tree classifier as a baseline model. A baseline model is a simple model and I will then try to train other models that achieves a better score than this baseline model. The decision tree is a common baseline model since it is easy to interpret and visualise.\n",
        "\n",
        "As explained above, the AUC score will be used to evaluate the model. I will use a method called cross validation. The training set will be split into 3 smaller sets and the model is trained using 2 sets as training data, and the model is then evaluated with the remaining set. This is repeated 3 times, and scores will be calculated for each set, and the average can be obtained.\n",
        "\n",
        "The decision tree classifier gives a score of around 0.757 on the training (and validation) data, and a lower score of 0.732 on the leaderboard."
      ]
    },
    {
      "cell_type": "code",
      "metadata": {
        "id": "S5J-pweM1p4a",
        "outputId": "23b0c739-e6e6-4b5e-ac8e-23956b972184",
        "colab": {
          "base_uri": "https://localhost:8080/",
          "height": 50
        }
      },
      "source": [
        "# baseline model\n",
        "# doing a simple decision tree classifier\n",
        "dt = DecisionTreeClassifier(max_depth=5)\n",
        "\n",
        "get_classification(dt, train_data, train_response, test_data, test_clean, 'sub_dt.csv')\n",
        "# 0.732 on leaderboard"
      ],
      "execution_count": 24,
      "outputs": [
        {
          "output_type": "stream",
          "text": [
            "cv scores:  [0.73153126 0.78896593 0.75066196]\n",
            "mean cv score:  0.7570530488337717\n"
          ],
          "name": "stdout"
        }
      ]
    },
    {
      "cell_type": "code",
      "metadata": {
        "id": "-npLxMH_OBLZ",
        "outputId": "bcb571c5-c24e-4072-fe67-60e6a55e63bc",
        "colab": {
          "base_uri": "https://localhost:8080/",
          "height": 281
        }
      },
      "source": [
        "plot_importance_features(dt, train_data, \"Decision Tree\")"
      ],
      "execution_count": 26,
      "outputs": [
        {
          "output_type": "display_data",
          "data": {
            "image/png": "[encoded data removed]",
            "text/plain": [
              "<Figure size 432x288 with 1 Axes>"
            ]
          },
          "metadata": {
            "tags": [],
            "needs_background": "light"
          }
        }
      ]
    },
    {
      "cell_type": "markdown",
      "metadata": {
        "id": "AL7SFOeSpCZ4"
      },
      "source": [
        "We can visualise the process in which the decision tree used to arrive at a decision"
      ]
    },
    {
      "cell_type": "code",
      "metadata": {
        "id": "BhbiCwME2A-q",
        "outputId": "986cf942-e27b-4f16-c8d4-038b46d1fe2d",
        "colab": {
          "base_uri": "https://localhost:8080/",
          "height": 1000
        }
      },
      "source": [
        "from sklearn import tree\n",
        "fig = plt.figure(figsize=(25,20))\n",
        "tree.plot_tree(dt,\n",
        "               feature_names=train_data.columns)"
      ],
      "execution_count": 27,
      "outputs": [
        {
          "output_type": "execute_result",
          "data": {
            "text/plain": [
              "[Text(774.4301470588235, 996.6, 'D19_SOZIALES <= 1.5\\ngini = 0.024\\nsamples = 34214\\nvalue = [33790, 424]'),\n",
              " Text(441.06617647058823, 815.4000000000001, 'D19_SOZIALES <= 0.5\\ngini = 0.037\\nsamples = 20173\\nvalue = [19791, 382]'),\n",
              " Text(266.69117647058823, 634.2, 'ALTERSKATEGORIE_FEIN <= 23.0\\ngini = 0.005\\nsamples = 9023\\nvalue = [8999, 24]'),\n",
              " Text(164.11764705882354, 453.0, 'D19_VERSAND_ANZ_12 <= 5.5\\ngini = 0.005\\nsamples = 9012\\nvalue = [8989, 23]'),\n",
              " Text(82.05882352941177, 271.79999999999995, 'ANZ_HH_TITEL <= 2.5\\ngini = 0.005\\nsamples = 8989\\nvalue = [8967, 22]'),\n",
              " Text(41.029411764705884, 90.59999999999991, 'gini = 0.005\\nsamples = 8957\\nvalue = [8936, 21]'),\n",
              " Text(123.08823529411765, 90.59999999999991, 'gini = 0.061\\nsamples = 32\\nvalue = [31, 1]'),\n",
              " Text(246.1764705882353, 271.79999999999995, 'D19_TELKO_ONLINE_DATUM <= 9.0\\ngini = 0.083\\nsamples = 23\\nvalue = [22, 1]'),\n",
              " Text(205.14705882352942, 90.59999999999991, 'gini = 0.0\\nsamples = 1\\nvalue = [0, 1]'),\n",
              " Text(287.2058823529412, 90.59999999999991, 'gini = 0.0\\nsamples = 22\\nvalue = [22, 0]'),\n",
              " Text(369.2647058823529, 453.0, 'SEMIO_KULT <= 6.5\\ngini = 0.165\\nsamples = 11\\nvalue = [10, 1]'),\n",
              " Text(328.2352941176471, 271.79999999999995, 'gini = 0.0\\nsamples = 10\\nvalue = [10, 0]'),\n",
              " Text(410.29411764705884, 271.79999999999995, 'gini = 0.0\\nsamples = 1\\nvalue = [0, 1]'),\n",
              " Text(615.4411764705883, 634.2, 'D19_KONSUMTYP_MAX <= 6.5\\ngini = 0.062\\nsamples = 11150\\nvalue = [10792, 358]'),\n",
              " Text(574.4117647058824, 453.0, 'KBA05_SEG2 <= 4.5\\ngini = 0.065\\nsamples = 10586\\nvalue = [10228, 358]'),\n",
              " Text(492.3529411764706, 271.79999999999995, 'VK_ZG11 <= 3.5\\ngini = 0.062\\nsamples = 10011\\nvalue = [9693, 318]'),\n",
              " Text(451.32352941176475, 90.59999999999991, 'gini = 0.054\\nsamples = 7872\\nvalue = [7655, 217]'),\n",
              " Text(533.3823529411765, 90.59999999999991, 'gini = 0.09\\nsamples = 2139\\nvalue = [2038, 101]'),\n",
              " Text(656.4705882352941, 271.79999999999995, 'ANZ_STATISTISCHE_HAUSHALTE <= 67.0\\ngini = 0.129\\nsamples = 575\\nvalue = [535, 40]'),\n",
              " Text(615.4411764705883, 90.59999999999991, 'gini = 0.121\\nsamples = 571\\nvalue = [534, 37]'),\n",
              " Text(697.5, 90.59999999999991, 'gini = 0.375\\nsamples = 4\\nvalue = [1, 3]'),\n",
              " Text(656.4705882352941, 453.0, 'gini = 0.0\\nsamples = 564\\nvalue = [564, 0]'),\n",
              " Text(1107.7941176470588, 815.4000000000001, 'ANZ_KINDER <= 5.5\\ngini = 0.006\\nsamples = 14041\\nvalue = [13999, 42]'),\n",
              " Text(1066.764705882353, 634.2, 'KBA05_HERST5 <= 4.5\\ngini = 0.006\\nsamples = 14040\\nvalue = [13999, 41]'),\n",
              " Text(902.6470588235295, 453.0, 'SEMIO_PFLICHT <= 6.5\\ngini = 0.005\\nsamples = 12750\\nvalue = [12719, 31]'),\n",
              " Text(820.5882352941177, 271.79999999999995, 'KBA13_KRSSEG_KLEIN <= 1.5\\ngini = 0.004\\nsamples = 12269\\nvalue = [12243, 26]'),\n",
              " Text(779.5588235294118, 90.59999999999991, 'gini = 0.017\\nsamples = 593\\nvalue = [588, 5]'),\n",
              " Text(861.6176470588235, 90.59999999999991, 'gini = 0.004\\nsamples = 11676\\nvalue = [11655, 21]'),\n",
              " Text(984.7058823529412, 271.79999999999995, 'KBA13_FIAT <= 1.5\\ngini = 0.021\\nsamples = 481\\nvalue = [476, 5]'),\n",
              " Text(943.6764705882354, 90.59999999999991, 'gini = 0.18\\nsamples = 30\\nvalue = [27, 3]'),\n",
              " Text(1025.735294117647, 90.59999999999991, 'gini = 0.009\\nsamples = 451\\nvalue = [449, 2]'),\n",
              " Text(1230.8823529411766, 453.0, 'ALTER_HH <= 18.5\\ngini = 0.015\\nsamples = 1290\\nvalue = [1280, 10]'),\n",
              " Text(1148.8235294117649, 271.79999999999995, 'KBA13_ANZAHL_PKW <= 1207.0\\ngini = 0.01\\nsamples = 1196\\nvalue = [1190, 6]'),\n",
              " Text(1107.7941176470588, 90.59999999999991, 'gini = 0.005\\nsamples = 1136\\nvalue = [1133, 3]'),\n",
              " Text(1189.8529411764707, 90.59999999999991, 'gini = 0.095\\nsamples = 60\\nvalue = [57, 3]'),\n",
              " Text(1312.9411764705883, 271.79999999999995, 'ARBEIT <= 1.5\\ngini = 0.081\\nsamples = 94\\nvalue = [90, 4]'),\n",
              " Text(1271.9117647058824, 90.59999999999991, 'gini = 0.0\\nsamples = 1\\nvalue = [0, 1]'),\n",
              " Text(1353.9705882352941, 90.59999999999991, 'gini = 0.062\\nsamples = 93\\nvalue = [90, 3]'),\n",
              " Text(1148.8235294117649, 634.2, 'gini = 0.0\\nsamples = 1\\nvalue = [0, 1]')]"
            ]
          },
          "metadata": {
            "tags": []
          },
          "execution_count": 27
        },
        {
          "output_type": "display_data",
          "data": {
            "image/png": "[encoded data removed]",
            "text/plain": [
              "<Figure size 1800x1440 with 1 Axes>"
            ]
          },
          "metadata": {
            "tags": [],
            "needs_background": "light"
          }
        }
      ]
    },
    {
      "cell_type": "markdown",
      "metadata": {
        "id": "EJvtyiqz03tF"
      },
      "source": [
        "I will now try with another simple model which is the Logistic Regression. \n",
        "\n",
        "Upon trying, it seems that the model failed to converge even after the total number of iterations have reahced the limit. This can be overcomed by increasing the number of iterations or scaling the data. Hence, I apply scaling of the data and increased the max iteration to 500.\n",
        "\n",
        "The logistic regression model performs rather poorly during training (and validation), with a cv score of only 0.653. \n",
        "\n",
        "The logistic regression model might perform better if trained on fewer features, such as to use the important features identified in the previous section. However, since the cv score is much lower than the decision tree, I will move on try out other models."
      ]
    },
    {
      "cell_type": "code",
      "metadata": {
        "id": "zavFZYF4xafS",
        "outputId": "c76735a9-a465-41f5-968b-9a494462a8b5",
        "colab": {
          "base_uri": "https://localhost:8080/",
          "height": 50
        }
      },
      "source": [
        "train_data_scaled = preprocessing.scale(train_data)\n",
        "test_data_scaled = preprocessing.scale(test_data)\n",
        "\n",
        "lr = LogisticRegression(class_weight='balanced', max_iter=500)\n",
        "\n",
        "get_classification(lr, train_data_scaled, train_response, test_data_scaled, test_clean, 'sub_lr.csv')\n",
        "# 0.62"
      ],
      "execution_count": 52,
      "outputs": [
        {
          "output_type": "stream",
          "text": [
            "cv scores:  [0.63397795 0.65244231 0.67304228]\n",
            "mean cv score:  0.6531541805145334\n"
          ],
          "name": "stdout"
        }
      ]
    },
    {
      "cell_type": "markdown",
      "metadata": {
        "id": "8OZiZWDHpCZ-"
      },
      "source": [
        "A random forest classifier is an ensemble method for classification. The forest is an ensemble of decision trees. Multiple decision trees give a class prediction and the class with most votes is chosen as the model's final prediction. Each tree in the random forest chooses from a subset of features when splitting their nodes, making the trees more varied. Moreover, each individual tree randomly samples N data from the dataset (of size N) with replacement in a process called bagging. Hence, the random forest ends up with trees trained on different dataset and features, making it more robust.\n",
        "\n",
        "I first do some hyperparamter tuning for a random forest classifier. Using the best parameters, I then train the random forest model getting the cross validation score and use it for prediction on the test set.\n",
        "\n",
        "The cv score on training is about 0.748 on training and slightly higher at 0.751 on the leaderboard. The random forest classifer performs better than a single decision tree."
      ]
    },
    {
      "cell_type": "code",
      "execution_count": null,
      "metadata": {},
      "outputs": [],
      "source": [
        "rf = RandomForestClassifier()\n",
        "\n",
        "get_classification(rf, train_data, train_response, test_data, test_clean, 'sub_rf_untuned.csv')\n",
        "\n",
        "# cv scores:  [0.60136542 0.59126668 0.62065805]\n",
        "# mean cv score:  0.6044300520093353\n",
        "# 0.616 on leaderboard"
      ]
    },
    {
      "cell_type": "code",
      "metadata": {
        "id": "ZMNcKg21se7d",
        "outputId": "edb2c634-a498-4aa5-fa67-5015543c10f9",
        "colab": {
          "base_uri": "https://localhost:8080/",
          "height": 50
        }
      },
      "source": [
        "#tune rf\n",
        "rf = RandomForestClassifier()\n",
        "hyperparams = {'class_weight':['balanced', 'balanced_subsample', None],\n",
        "               'criterion':['gini', 'entropy'],\n",
        "               'max_depth':[None, 5, 10],\n",
        "               'max_features':['auto', 'sqrt', 'log2'],\n",
        "               'min_samples_leaf':[1, 2, 5],\n",
        "               'n_estimators':[100, 250],\n",
        "}\n",
        "\n",
        "clf = RandomizedSearchCV(rf, hyperparams, scoring='roc_auc', n_iter=3)\n",
        "clf.fit(train_data, train_response)\n",
        "print(clf.best_params_)\n",
        "print(clf.best_score_)"
      ],
      "execution_count": 36,
      "outputs": [
        {
          "output_type": "stream",
          "text": [
            "{'n_estimators': 250, 'min_samples_leaf': 5, 'max_features': 'sqrt', 'max_depth': 10, 'criterion': 'gini', 'class_weight': 'balanced'}\n",
            "0.7478776352210017\n"
          ],
          "name": "stdout"
        }
      ]
    },
    {
      "cell_type": "code",
      "metadata": {
        "id": "6KCG_-vbwmi-",
        "outputId": "d381a25e-7c56-49ac-f5e2-ca387a2217ca",
        "colab": {
          "base_uri": "https://localhost:8080/",
          "height": 50
        }
      },
      "source": [
        "rf = RandomForestClassifier(class_weight='balanced',\n",
        "                            criterion='gini',\n",
        "                            max_depth=10,\n",
        "                            max_features='sqrt',\n",
        "                            min_samples_leaf=5,\n",
        "                            n_estimators=250\n",
        "                            )\n",
        "\n",
        "get_classification(rf, train_data, train_response, test_data, test_clean, 'sub_rf.csv')\n",
        "# 0.751 on leaderboard"
      ],
      "execution_count": 39,
      "outputs": [
        {
          "output_type": "stream",
          "text": [
            "cv scores:  [0.73369059 0.7709495  0.75475274]\n",
            "mean cv score:  0.7531309437020983\n"
          ],
          "name": "stdout"
        }
      ]
    },
    {
      "cell_type": "code",
      "metadata": {
        "id": "2SPmaqo_uone",
        "outputId": "b75bfdee-7eef-4a41-91be-fb2dcc667e3d",
        "colab": {
          "base_uri": "https://localhost:8080/",
          "height": 281
        }
      },
      "source": [
        "plot_importance_features(rf, train_data, \"RF\")"
      ],
      "execution_count": 53,
      "outputs": [
        {
          "output_type": "display_data",
          "data": {
            "image/png": "[encoded data removed]",
            "text/plain": [
              "<Figure size 432x288 with 1 Axes>"
            ]
          },
          "metadata": {
            "tags": [],
            "needs_background": "light"
          }
        }
      ]
    },
    {
      "cell_type": "markdown",
      "metadata": {
        "id": "aDaS_t0gpCaT"
      },
      "source": [
        "The next algorithm i will try is the XGBoost Classifier, short for Extreme Gradient Boosting Algorithm, which works by graident boosting decision trees. The term gradient boosting is used because the gradient descent algorithm is used to minimise loss when new models are added. Mistakes made by the previous models are learnt and this results in an improvement in performance in the model at the next step. This is repeated until there is no room for improvement.\n",
        "\n",
        "The cv score of the xgb model is 0.783, which is much higher than previous models I have tried so far. Submitting it on the Kaggle competition gives a score 0.805 which looks quite good."
      ]
    },
    {
      "cell_type": "code",
      "execution_count": null,
      "metadata": {},
      "outputs": [],
      "source": [
        "xgb = XGBClassifier()\n",
        "\n",
        "get_classification(xgb, train_data, train_response, test_data, test_clean, 'sub_xgb_untuned.csv')\n",
        "\n",
        "# cv scores:  [0.76669601 0.78953772 0.77686872]\n",
        "# mean cv score:  0.7777008154868993\n",
        "# 0.791 on leaderboard"
      ]
    },
    {
      "cell_type": "code",
      "metadata": {
        "id": "44R_VTTw657Q"
      },
      "source": [
        "# tune gbc\n",
        "gbc = XGBClassifier(eval_metric='auc', objective='binary:logistic')\n",
        "hyperparams = {'alpha': [0, 1e-9, 1e-4],\n",
        "               'colsample_by_tree': [0.5, 0.7, 1],\n",
        "               'gamma': [0, 0.5, 1],\n",
        "               'learning_rate': [0.01, 0.014, 0.1, 0.4],\n",
        "               'max_depth': [5, 6, 7],\n",
        "               'n_estimators': [100, 235, 375],\n",
        "               'subsample': [0.5, 0.7, 1]\n",
        "}\n",
        "\n",
        "clf = RandomizedSearchCV(gbc, hyperparams, scoring='roc_auc')\n",
        "clf.fit(train_data, train_response)\n",
        "print(clf.best_params_)\n",
        "print(clf.best_score_)"
      ],
      "execution_count": null,
      "outputs": []
    },
    {
      "cell_type": "code",
      "metadata": {
        "id": "AFpCE80D7qM6",
        "outputId": "bf0b51c7-101f-4f5b-aae0-8d1f6dae6d80",
        "colab": {
          "base_uri": "https://localhost:8080/",
          "height": 50
        }
      },
      "source": [
        "xgb = XGBClassifier(alpha=1e-09,\n",
        "                    colsample_bytree=0.7, \n",
        "                    eval_metric='auc',\n",
        "                    objective='binary:logistic', \n",
        "                    gamma=1.0,\n",
        "                    learning_rate=0.014, \n",
        "                    max_depth=7,\n",
        "                    n_estimators=235, \n",
        "                    subsample=0.5)\n",
        "\n",
        "get_classification(xgb, train_data, train_response, test_data, test_clean, 'sub_xgb.csv')\n",
        "#0.805"
      ],
      "execution_count": 54,
      "outputs": [
        {
          "output_type": "stream",
          "text": [
            "cv scores:  [0.76343293 0.79854703 0.78568878]\n",
            "mean cv score:  0.7825562477414097\n"
          ],
          "name": "stdout"
        }
      ]
    },
    {
      "cell_type": "code",
      "metadata": {
        "id": "ca017sW2ImOb",
        "outputId": "e3f64512-f730-4601-bae7-16ec9043f9a6",
        "colab": {
          "base_uri": "https://localhost:8080/",
          "height": 281
        }
      },
      "source": [
        "plot_importance_features(xgb, train_data, \"XGB\")"
      ],
      "execution_count": 55,
      "outputs": [
        {
          "output_type": "display_data",
          "data": {
            "image/png": "[encoded data removed]",
            "text/plain": [
              "<Figure size 432x288 with 1 Axes>"
            ]
          },
          "metadata": {
            "tags": [],
            "needs_background": "light"
          }
        }
      ]
    },
    {
      "cell_type": "markdown",
      "metadata": {
        "id": "_wEwJeeGpCam"
      },
      "source": [
        "The final model I will try is Light GBM. Rather than spliting the tree depth-wise, Light GBM splits the tree leaf-wise. This leaf-wise algorithm can reduce more loss than depth-wise, hence improving the performance of the model. The term 'light' stems from the fact that it is fast.\n",
        "\n",
        "I will first tune the hyperparameters for the light GBM model and then use the best parameters for prediction. This model gives a cv score of about 0.774 during training and a similar score of 0.778 on the leaderboard."
      ]
    },
    {
      "cell_type": "code",
      "execution_count": null,
      "metadata": {},
      "outputs": [],
      "source": [
        "lgb = LGBMClassifier()\n",
        "\n",
        "get_classification(lgb, train_data, train_response, test_data, test_clean, 'sub_lgb_untuned.csv')\n",
        "\n",
        "# cv scores:  [0.75917629 0.75967427 0.76329953]\n",
        "# mean cv score:  0.7607166932030337\n",
        "# 0.753 on leaderboard"
      ]
    },
    {
      "cell_type": "code",
      "metadata": {
        "id": "S_zbvp6VtQYc",
        "outputId": "b0e4125e-f4ed-4005-ad55-6e052bfc6332",
        "colab": {
          "base_uri": "https://localhost:8080/",
          "height": 50
        }
      },
      "source": [
        "# tune lgbm\n",
        "lgbm = LGBMClassifier(metric='auc', objective='binary')\n",
        "hyperparams = {'learning_rate': [0.07, 0.1],\n",
        "               'max_depth': [-1, 5, 10], \n",
        "               'reg_alpha': [0, 1e-5, 0.01, 1],\n",
        "               'reg_lambda': [0, 1e-5, 0.01, 1],\n",
        "               'scale_pos_weight': [1, 10],\n",
        "               'sumbsample':[0.5, 0.8, 1]\n",
        "}\n",
        "\n",
        "clf = RandomizedSearchCV(lgbm, hyperparams, scoring='roc_auc')\n",
        "clf.fit(train_data, train_response)\n",
        "print(clf.best_params_)\n",
        "print(clf.best_score_)"
      ],
      "execution_count": 29,
      "outputs": [
        {
          "output_type": "stream",
          "text": [
            "{'sumbsample': 0.8, 'scale_pos_weight': 1, 'reg_lambda': 0, 'reg_alpha': 1, 'max_depth': 10, 'learning_rate': 0.1}\n",
            "0.7743036824081513\n"
          ],
          "name": "stdout"
        }
      ]
    },
    {
      "cell_type": "code",
      "metadata": {
        "id": "SNURotM_vt3a",
        "outputId": "1b6c581b-5a7c-4f99-d868-f49ab79b5e1e",
        "colab": {
          "base_uri": "https://localhost:8080/",
          "height": 50
        }
      },
      "source": [
        "lgb = LGBMClassifier(objective='binary', \n",
        "                    metric='auc',\n",
        "                    learning_rate=0.1, \n",
        "                    max_depth=10,\n",
        "                    reg_alpha=1.0, \n",
        "                    reg_lambda=0,\n",
        "                    scale_pos_weight=1, \n",
        "                    subsample=0.8)\n",
        "\n",
        "get_classification(lgb, train_data, train_response, test_data, test_clean, 'sub_lgb.csv')\n",
        "# 0.778 on leaderboard"
      ],
      "execution_count": 32,
      "outputs": [
        {
          "output_type": "stream",
          "text": [
            "cv scores:  [0.75953959 0.79485927 0.76823189]\n",
            "mean cv score:  0.7742102490693337\n"
          ],
          "name": "stdout"
        }
      ]
    },
    {
      "cell_type": "code",
      "metadata": {
        "id": "rZM1Lz89Ml6b",
        "outputId": "e6e1fb1e-ccb7-45bd-fb7d-7dd8a1eecf75",
        "colab": {
          "base_uri": "https://localhost:8080/",
          "height": 281
        }
      },
      "source": [
        "plot_importance_features(lgb, train_data, \"LGB\")"
      ],
      "execution_count": 34,
      "outputs": [
        {
          "output_type": "display_data",
          "data": {
            "image/png": "[encoded data removed]",
            "text/plain": [
              "<Figure size 432x288 with 1 Axes>"
            ]
          },
          "metadata": {
            "tags": [],
            "needs_background": "light"
          }
        }
      ]
    }
  ]
}